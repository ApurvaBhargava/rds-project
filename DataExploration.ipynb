{
  "nbformat": 4,
  "nbformat_minor": 0,
  "metadata": {
    "accelerator": "GPU",
    "colab": {
      "name": "BiasAnalysis.ipynb",
      "provenance": [],
      "collapsed_sections": []
    },
    "kernelspec": {
      "display_name": "Python 3",
      "language": "python",
      "name": "python3"
    },
    "language_info": {
      "codemirror_mode": {
        "name": "ipython",
        "version": 3
      },
      "file_extension": ".py",
      "mimetype": "text/x-python",
      "name": "python",
      "nbconvert_exporter": "python",
      "pygments_lexer": "ipython3",
      "version": "3.8.1"
    }
  },
  "cells": [
    {
      "cell_type": "code",
      "metadata": {
        "colab_type": "code",
        "id": "vAJkSqIWdRKP",
        "colab": {}
      },
      "source": [
        "import pandas as pd\n",
        "import numpy as np\n",
        "import matplotlib.pyplot as plt\n",
        "%matplotlib inline"
      ],
      "execution_count": 0,
      "outputs": []
    },
    {
      "cell_type": "markdown",
      "metadata": {
        "id": "hI4T7gHpztdV",
        "colab_type": "text"
      },
      "source": [
        "# Data Exploration"
      ]
    },
    {
      "cell_type": "code",
      "metadata": {
        "colab_type": "code",
        "id": "xT3Sit9Hc2r1",
        "colab": {}
      },
      "source": [
        "path = \"./data/application_train.csv\"\n",
        "df = pd.read_csv(path)"
      ],
      "execution_count": 0,
      "outputs": []
    },
    {
      "cell_type": "code",
      "metadata": {
        "colab_type": "code",
        "id": "zWrRNG1jc2p9",
        "outputId": "900feb52-d65a-49df-b14c-deef0e498c72",
        "colab": {
          "base_uri": "https://localhost:8080/",
          "height": 316
        }
      },
      "source": [
        "df.head()"
      ],
      "execution_count": 0,
      "outputs": [
        {
          "output_type": "execute_result",
          "data": {
            "text/html": [
              "<div>\n",
              "<style scoped>\n",
              "    .dataframe tbody tr th:only-of-type {\n",
              "        vertical-align: middle;\n",
              "    }\n",
              "\n",
              "    .dataframe tbody tr th {\n",
              "        vertical-align: top;\n",
              "    }\n",
              "\n",
              "    .dataframe thead th {\n",
              "        text-align: right;\n",
              "    }\n",
              "</style>\n",
              "<table border=\"1\" class=\"dataframe\">\n",
              "  <thead>\n",
              "    <tr style=\"text-align: right;\">\n",
              "      <th></th>\n",
              "      <th>SK_ID_CURR</th>\n",
              "      <th>TARGET</th>\n",
              "      <th>NAME_CONTRACT_TYPE</th>\n",
              "      <th>CODE_GENDER</th>\n",
              "      <th>FLAG_OWN_CAR</th>\n",
              "      <th>FLAG_OWN_REALTY</th>\n",
              "      <th>CNT_CHILDREN</th>\n",
              "      <th>AMT_INCOME_TOTAL</th>\n",
              "      <th>AMT_CREDIT</th>\n",
              "      <th>AMT_ANNUITY</th>\n",
              "      <th>AMT_GOODS_PRICE</th>\n",
              "      <th>NAME_TYPE_SUITE</th>\n",
              "      <th>NAME_INCOME_TYPE</th>\n",
              "      <th>NAME_EDUCATION_TYPE</th>\n",
              "      <th>NAME_FAMILY_STATUS</th>\n",
              "      <th>NAME_HOUSING_TYPE</th>\n",
              "      <th>REGION_POPULATION_RELATIVE</th>\n",
              "      <th>DAYS_BIRTH</th>\n",
              "      <th>DAYS_EMPLOYED</th>\n",
              "      <th>DAYS_REGISTRATION</th>\n",
              "      <th>DAYS_ID_PUBLISH</th>\n",
              "      <th>OWN_CAR_AGE</th>\n",
              "      <th>FLAG_MOBIL</th>\n",
              "      <th>FLAG_EMP_PHONE</th>\n",
              "      <th>FLAG_WORK_PHONE</th>\n",
              "      <th>FLAG_CONT_MOBILE</th>\n",
              "      <th>FLAG_PHONE</th>\n",
              "      <th>FLAG_EMAIL</th>\n",
              "      <th>OCCUPATION_TYPE</th>\n",
              "      <th>CNT_FAM_MEMBERS</th>\n",
              "      <th>REGION_RATING_CLIENT</th>\n",
              "      <th>REGION_RATING_CLIENT_W_CITY</th>\n",
              "      <th>WEEKDAY_APPR_PROCESS_START</th>\n",
              "      <th>HOUR_APPR_PROCESS_START</th>\n",
              "      <th>REG_REGION_NOT_LIVE_REGION</th>\n",
              "      <th>REG_REGION_NOT_WORK_REGION</th>\n",
              "      <th>LIVE_REGION_NOT_WORK_REGION</th>\n",
              "      <th>REG_CITY_NOT_LIVE_CITY</th>\n",
              "      <th>REG_CITY_NOT_WORK_CITY</th>\n",
              "      <th>LIVE_CITY_NOT_WORK_CITY</th>\n",
              "      <th>...</th>\n",
              "      <th>LIVINGAPARTMENTS_MEDI</th>\n",
              "      <th>LIVINGAREA_MEDI</th>\n",
              "      <th>NONLIVINGAPARTMENTS_MEDI</th>\n",
              "      <th>NONLIVINGAREA_MEDI</th>\n",
              "      <th>FONDKAPREMONT_MODE</th>\n",
              "      <th>HOUSETYPE_MODE</th>\n",
              "      <th>TOTALAREA_MODE</th>\n",
              "      <th>WALLSMATERIAL_MODE</th>\n",
              "      <th>EMERGENCYSTATE_MODE</th>\n",
              "      <th>OBS_30_CNT_SOCIAL_CIRCLE</th>\n",
              "      <th>DEF_30_CNT_SOCIAL_CIRCLE</th>\n",
              "      <th>OBS_60_CNT_SOCIAL_CIRCLE</th>\n",
              "      <th>DEF_60_CNT_SOCIAL_CIRCLE</th>\n",
              "      <th>DAYS_LAST_PHONE_CHANGE</th>\n",
              "      <th>FLAG_DOCUMENT_2</th>\n",
              "      <th>FLAG_DOCUMENT_3</th>\n",
              "      <th>FLAG_DOCUMENT_4</th>\n",
              "      <th>FLAG_DOCUMENT_5</th>\n",
              "      <th>FLAG_DOCUMENT_6</th>\n",
              "      <th>FLAG_DOCUMENT_7</th>\n",
              "      <th>FLAG_DOCUMENT_8</th>\n",
              "      <th>FLAG_DOCUMENT_9</th>\n",
              "      <th>FLAG_DOCUMENT_10</th>\n",
              "      <th>FLAG_DOCUMENT_11</th>\n",
              "      <th>FLAG_DOCUMENT_12</th>\n",
              "      <th>FLAG_DOCUMENT_13</th>\n",
              "      <th>FLAG_DOCUMENT_14</th>\n",
              "      <th>FLAG_DOCUMENT_15</th>\n",
              "      <th>FLAG_DOCUMENT_16</th>\n",
              "      <th>FLAG_DOCUMENT_17</th>\n",
              "      <th>FLAG_DOCUMENT_18</th>\n",
              "      <th>FLAG_DOCUMENT_19</th>\n",
              "      <th>FLAG_DOCUMENT_20</th>\n",
              "      <th>FLAG_DOCUMENT_21</th>\n",
              "      <th>AMT_REQ_CREDIT_BUREAU_HOUR</th>\n",
              "      <th>AMT_REQ_CREDIT_BUREAU_DAY</th>\n",
              "      <th>AMT_REQ_CREDIT_BUREAU_WEEK</th>\n",
              "      <th>AMT_REQ_CREDIT_BUREAU_MON</th>\n",
              "      <th>AMT_REQ_CREDIT_BUREAU_QRT</th>\n",
              "      <th>AMT_REQ_CREDIT_BUREAU_YEAR</th>\n",
              "    </tr>\n",
              "  </thead>\n",
              "  <tbody>\n",
              "    <tr>\n",
              "      <th>0</th>\n",
              "      <td>100002</td>\n",
              "      <td>1</td>\n",
              "      <td>Cash loans</td>\n",
              "      <td>M</td>\n",
              "      <td>N</td>\n",
              "      <td>Y</td>\n",
              "      <td>0</td>\n",
              "      <td>202500.0</td>\n",
              "      <td>406597.5</td>\n",
              "      <td>24700.5</td>\n",
              "      <td>351000.0</td>\n",
              "      <td>Unaccompanied</td>\n",
              "      <td>Working</td>\n",
              "      <td>Secondary / secondary special</td>\n",
              "      <td>Single / not married</td>\n",
              "      <td>House / apartment</td>\n",
              "      <td>0.018801</td>\n",
              "      <td>-9461</td>\n",
              "      <td>-637</td>\n",
              "      <td>-3648.0</td>\n",
              "      <td>-2120</td>\n",
              "      <td>NaN</td>\n",
              "      <td>1</td>\n",
              "      <td>1</td>\n",
              "      <td>0</td>\n",
              "      <td>1</td>\n",
              "      <td>1</td>\n",
              "      <td>0</td>\n",
              "      <td>Laborers</td>\n",
              "      <td>1.0</td>\n",
              "      <td>2</td>\n",
              "      <td>2</td>\n",
              "      <td>WEDNESDAY</td>\n",
              "      <td>10</td>\n",
              "      <td>0</td>\n",
              "      <td>0</td>\n",
              "      <td>0</td>\n",
              "      <td>0</td>\n",
              "      <td>0</td>\n",
              "      <td>0</td>\n",
              "      <td>...</td>\n",
              "      <td>0.0205</td>\n",
              "      <td>0.0193</td>\n",
              "      <td>0.0000</td>\n",
              "      <td>0.00</td>\n",
              "      <td>reg oper account</td>\n",
              "      <td>block of flats</td>\n",
              "      <td>0.0149</td>\n",
              "      <td>Stone, brick</td>\n",
              "      <td>No</td>\n",
              "      <td>2.0</td>\n",
              "      <td>2.0</td>\n",
              "      <td>2.0</td>\n",
              "      <td>2.0</td>\n",
              "      <td>-1134.0</td>\n",
              "      <td>0</td>\n",
              "      <td>1</td>\n",
              "      <td>0</td>\n",
              "      <td>0</td>\n",
              "      <td>0</td>\n",
              "      <td>0</td>\n",
              "      <td>0</td>\n",
              "      <td>0</td>\n",
              "      <td>0</td>\n",
              "      <td>0</td>\n",
              "      <td>0</td>\n",
              "      <td>0</td>\n",
              "      <td>0</td>\n",
              "      <td>0</td>\n",
              "      <td>0</td>\n",
              "      <td>0</td>\n",
              "      <td>0</td>\n",
              "      <td>0</td>\n",
              "      <td>0</td>\n",
              "      <td>0</td>\n",
              "      <td>0.0</td>\n",
              "      <td>0.0</td>\n",
              "      <td>0.0</td>\n",
              "      <td>0.0</td>\n",
              "      <td>0.0</td>\n",
              "      <td>1.0</td>\n",
              "    </tr>\n",
              "    <tr>\n",
              "      <th>1</th>\n",
              "      <td>100003</td>\n",
              "      <td>0</td>\n",
              "      <td>Cash loans</td>\n",
              "      <td>F</td>\n",
              "      <td>N</td>\n",
              "      <td>N</td>\n",
              "      <td>0</td>\n",
              "      <td>270000.0</td>\n",
              "      <td>1293502.5</td>\n",
              "      <td>35698.5</td>\n",
              "      <td>1129500.0</td>\n",
              "      <td>Family</td>\n",
              "      <td>State servant</td>\n",
              "      <td>Higher education</td>\n",
              "      <td>Married</td>\n",
              "      <td>House / apartment</td>\n",
              "      <td>0.003541</td>\n",
              "      <td>-16765</td>\n",
              "      <td>-1188</td>\n",
              "      <td>-1186.0</td>\n",
              "      <td>-291</td>\n",
              "      <td>NaN</td>\n",
              "      <td>1</td>\n",
              "      <td>1</td>\n",
              "      <td>0</td>\n",
              "      <td>1</td>\n",
              "      <td>1</td>\n",
              "      <td>0</td>\n",
              "      <td>Core staff</td>\n",
              "      <td>2.0</td>\n",
              "      <td>1</td>\n",
              "      <td>1</td>\n",
              "      <td>MONDAY</td>\n",
              "      <td>11</td>\n",
              "      <td>0</td>\n",
              "      <td>0</td>\n",
              "      <td>0</td>\n",
              "      <td>0</td>\n",
              "      <td>0</td>\n",
              "      <td>0</td>\n",
              "      <td>...</td>\n",
              "      <td>0.0787</td>\n",
              "      <td>0.0558</td>\n",
              "      <td>0.0039</td>\n",
              "      <td>0.01</td>\n",
              "      <td>reg oper account</td>\n",
              "      <td>block of flats</td>\n",
              "      <td>0.0714</td>\n",
              "      <td>Block</td>\n",
              "      <td>No</td>\n",
              "      <td>1.0</td>\n",
              "      <td>0.0</td>\n",
              "      <td>1.0</td>\n",
              "      <td>0.0</td>\n",
              "      <td>-828.0</td>\n",
              "      <td>0</td>\n",
              "      <td>1</td>\n",
              "      <td>0</td>\n",
              "      <td>0</td>\n",
              "      <td>0</td>\n",
              "      <td>0</td>\n",
              "      <td>0</td>\n",
              "      <td>0</td>\n",
              "      <td>0</td>\n",
              "      <td>0</td>\n",
              "      <td>0</td>\n",
              "      <td>0</td>\n",
              "      <td>0</td>\n",
              "      <td>0</td>\n",
              "      <td>0</td>\n",
              "      <td>0</td>\n",
              "      <td>0</td>\n",
              "      <td>0</td>\n",
              "      <td>0</td>\n",
              "      <td>0</td>\n",
              "      <td>0.0</td>\n",
              "      <td>0.0</td>\n",
              "      <td>0.0</td>\n",
              "      <td>0.0</td>\n",
              "      <td>0.0</td>\n",
              "      <td>0.0</td>\n",
              "    </tr>\n",
              "    <tr>\n",
              "      <th>2</th>\n",
              "      <td>100004</td>\n",
              "      <td>0</td>\n",
              "      <td>Revolving loans</td>\n",
              "      <td>M</td>\n",
              "      <td>Y</td>\n",
              "      <td>Y</td>\n",
              "      <td>0</td>\n",
              "      <td>67500.0</td>\n",
              "      <td>135000.0</td>\n",
              "      <td>6750.0</td>\n",
              "      <td>135000.0</td>\n",
              "      <td>Unaccompanied</td>\n",
              "      <td>Working</td>\n",
              "      <td>Secondary / secondary special</td>\n",
              "      <td>Single / not married</td>\n",
              "      <td>House / apartment</td>\n",
              "      <td>0.010032</td>\n",
              "      <td>-19046</td>\n",
              "      <td>-225</td>\n",
              "      <td>-4260.0</td>\n",
              "      <td>-2531</td>\n",
              "      <td>26.0</td>\n",
              "      <td>1</td>\n",
              "      <td>1</td>\n",
              "      <td>1</td>\n",
              "      <td>1</td>\n",
              "      <td>1</td>\n",
              "      <td>0</td>\n",
              "      <td>Laborers</td>\n",
              "      <td>1.0</td>\n",
              "      <td>2</td>\n",
              "      <td>2</td>\n",
              "      <td>MONDAY</td>\n",
              "      <td>9</td>\n",
              "      <td>0</td>\n",
              "      <td>0</td>\n",
              "      <td>0</td>\n",
              "      <td>0</td>\n",
              "      <td>0</td>\n",
              "      <td>0</td>\n",
              "      <td>...</td>\n",
              "      <td>NaN</td>\n",
              "      <td>NaN</td>\n",
              "      <td>NaN</td>\n",
              "      <td>NaN</td>\n",
              "      <td>NaN</td>\n",
              "      <td>NaN</td>\n",
              "      <td>NaN</td>\n",
              "      <td>NaN</td>\n",
              "      <td>NaN</td>\n",
              "      <td>0.0</td>\n",
              "      <td>0.0</td>\n",
              "      <td>0.0</td>\n",
              "      <td>0.0</td>\n",
              "      <td>-815.0</td>\n",
              "      <td>0</td>\n",
              "      <td>0</td>\n",
              "      <td>0</td>\n",
              "      <td>0</td>\n",
              "      <td>0</td>\n",
              "      <td>0</td>\n",
              "      <td>0</td>\n",
              "      <td>0</td>\n",
              "      <td>0</td>\n",
              "      <td>0</td>\n",
              "      <td>0</td>\n",
              "      <td>0</td>\n",
              "      <td>0</td>\n",
              "      <td>0</td>\n",
              "      <td>0</td>\n",
              "      <td>0</td>\n",
              "      <td>0</td>\n",
              "      <td>0</td>\n",
              "      <td>0</td>\n",
              "      <td>0</td>\n",
              "      <td>0.0</td>\n",
              "      <td>0.0</td>\n",
              "      <td>0.0</td>\n",
              "      <td>0.0</td>\n",
              "      <td>0.0</td>\n",
              "      <td>0.0</td>\n",
              "    </tr>\n",
              "    <tr>\n",
              "      <th>3</th>\n",
              "      <td>100006</td>\n",
              "      <td>0</td>\n",
              "      <td>Cash loans</td>\n",
              "      <td>F</td>\n",
              "      <td>N</td>\n",
              "      <td>Y</td>\n",
              "      <td>0</td>\n",
              "      <td>135000.0</td>\n",
              "      <td>312682.5</td>\n",
              "      <td>29686.5</td>\n",
              "      <td>297000.0</td>\n",
              "      <td>Unaccompanied</td>\n",
              "      <td>Working</td>\n",
              "      <td>Secondary / secondary special</td>\n",
              "      <td>Civil marriage</td>\n",
              "      <td>House / apartment</td>\n",
              "      <td>0.008019</td>\n",
              "      <td>-19005</td>\n",
              "      <td>-3039</td>\n",
              "      <td>-9833.0</td>\n",
              "      <td>-2437</td>\n",
              "      <td>NaN</td>\n",
              "      <td>1</td>\n",
              "      <td>1</td>\n",
              "      <td>0</td>\n",
              "      <td>1</td>\n",
              "      <td>0</td>\n",
              "      <td>0</td>\n",
              "      <td>Laborers</td>\n",
              "      <td>2.0</td>\n",
              "      <td>2</td>\n",
              "      <td>2</td>\n",
              "      <td>WEDNESDAY</td>\n",
              "      <td>17</td>\n",
              "      <td>0</td>\n",
              "      <td>0</td>\n",
              "      <td>0</td>\n",
              "      <td>0</td>\n",
              "      <td>0</td>\n",
              "      <td>0</td>\n",
              "      <td>...</td>\n",
              "      <td>NaN</td>\n",
              "      <td>NaN</td>\n",
              "      <td>NaN</td>\n",
              "      <td>NaN</td>\n",
              "      <td>NaN</td>\n",
              "      <td>NaN</td>\n",
              "      <td>NaN</td>\n",
              "      <td>NaN</td>\n",
              "      <td>NaN</td>\n",
              "      <td>2.0</td>\n",
              "      <td>0.0</td>\n",
              "      <td>2.0</td>\n",
              "      <td>0.0</td>\n",
              "      <td>-617.0</td>\n",
              "      <td>0</td>\n",
              "      <td>1</td>\n",
              "      <td>0</td>\n",
              "      <td>0</td>\n",
              "      <td>0</td>\n",
              "      <td>0</td>\n",
              "      <td>0</td>\n",
              "      <td>0</td>\n",
              "      <td>0</td>\n",
              "      <td>0</td>\n",
              "      <td>0</td>\n",
              "      <td>0</td>\n",
              "      <td>0</td>\n",
              "      <td>0</td>\n",
              "      <td>0</td>\n",
              "      <td>0</td>\n",
              "      <td>0</td>\n",
              "      <td>0</td>\n",
              "      <td>0</td>\n",
              "      <td>0</td>\n",
              "      <td>NaN</td>\n",
              "      <td>NaN</td>\n",
              "      <td>NaN</td>\n",
              "      <td>NaN</td>\n",
              "      <td>NaN</td>\n",
              "      <td>NaN</td>\n",
              "    </tr>\n",
              "    <tr>\n",
              "      <th>4</th>\n",
              "      <td>100007</td>\n",
              "      <td>0</td>\n",
              "      <td>Cash loans</td>\n",
              "      <td>M</td>\n",
              "      <td>N</td>\n",
              "      <td>Y</td>\n",
              "      <td>0</td>\n",
              "      <td>121500.0</td>\n",
              "      <td>513000.0</td>\n",
              "      <td>21865.5</td>\n",
              "      <td>513000.0</td>\n",
              "      <td>Unaccompanied</td>\n",
              "      <td>Working</td>\n",
              "      <td>Secondary / secondary special</td>\n",
              "      <td>Single / not married</td>\n",
              "      <td>House / apartment</td>\n",
              "      <td>0.028663</td>\n",
              "      <td>-19932</td>\n",
              "      <td>-3038</td>\n",
              "      <td>-4311.0</td>\n",
              "      <td>-3458</td>\n",
              "      <td>NaN</td>\n",
              "      <td>1</td>\n",
              "      <td>1</td>\n",
              "      <td>0</td>\n",
              "      <td>1</td>\n",
              "      <td>0</td>\n",
              "      <td>0</td>\n",
              "      <td>Core staff</td>\n",
              "      <td>1.0</td>\n",
              "      <td>2</td>\n",
              "      <td>2</td>\n",
              "      <td>THURSDAY</td>\n",
              "      <td>11</td>\n",
              "      <td>0</td>\n",
              "      <td>0</td>\n",
              "      <td>0</td>\n",
              "      <td>0</td>\n",
              "      <td>1</td>\n",
              "      <td>1</td>\n",
              "      <td>...</td>\n",
              "      <td>NaN</td>\n",
              "      <td>NaN</td>\n",
              "      <td>NaN</td>\n",
              "      <td>NaN</td>\n",
              "      <td>NaN</td>\n",
              "      <td>NaN</td>\n",
              "      <td>NaN</td>\n",
              "      <td>NaN</td>\n",
              "      <td>NaN</td>\n",
              "      <td>0.0</td>\n",
              "      <td>0.0</td>\n",
              "      <td>0.0</td>\n",
              "      <td>0.0</td>\n",
              "      <td>-1106.0</td>\n",
              "      <td>0</td>\n",
              "      <td>0</td>\n",
              "      <td>0</td>\n",
              "      <td>0</td>\n",
              "      <td>0</td>\n",
              "      <td>0</td>\n",
              "      <td>1</td>\n",
              "      <td>0</td>\n",
              "      <td>0</td>\n",
              "      <td>0</td>\n",
              "      <td>0</td>\n",
              "      <td>0</td>\n",
              "      <td>0</td>\n",
              "      <td>0</td>\n",
              "      <td>0</td>\n",
              "      <td>0</td>\n",
              "      <td>0</td>\n",
              "      <td>0</td>\n",
              "      <td>0</td>\n",
              "      <td>0</td>\n",
              "      <td>0.0</td>\n",
              "      <td>0.0</td>\n",
              "      <td>0.0</td>\n",
              "      <td>0.0</td>\n",
              "      <td>0.0</td>\n",
              "      <td>0.0</td>\n",
              "    </tr>\n",
              "  </tbody>\n",
              "</table>\n",
              "<p>5 rows × 122 columns</p>\n",
              "</div>"
            ],
            "text/plain": [
              "   SK_ID_CURR  TARGET  ... AMT_REQ_CREDIT_BUREAU_QRT AMT_REQ_CREDIT_BUREAU_YEAR\n",
              "0      100002       1  ...                       0.0                        1.0\n",
              "1      100003       0  ...                       0.0                        0.0\n",
              "2      100004       0  ...                       0.0                        0.0\n",
              "3      100006       0  ...                       NaN                        NaN\n",
              "4      100007       0  ...                       0.0                        0.0\n",
              "\n",
              "[5 rows x 122 columns]"
            ]
          },
          "metadata": {
            "tags": []
          },
          "execution_count": 7
        }
      ]
    },
    {
      "cell_type": "code",
      "metadata": {
        "id": "kwE40zoN4nHp",
        "colab_type": "code",
        "outputId": "184abd1f-13d7-41e1-dc13-31678f584042",
        "colab": {
          "base_uri": "https://localhost:8080/",
          "height": 55
        }
      },
      "source": [
        "print(list(df.columns))"
      ],
      "execution_count": 0,
      "outputs": [
        {
          "output_type": "stream",
          "text": [
            "['SK_ID_CURR', 'TARGET', 'NAME_CONTRACT_TYPE', 'CODE_GENDER', 'FLAG_OWN_CAR', 'FLAG_OWN_REALTY', 'CNT_CHILDREN', 'AMT_INCOME_TOTAL', 'AMT_CREDIT', 'AMT_ANNUITY', 'AMT_GOODS_PRICE', 'NAME_TYPE_SUITE', 'NAME_INCOME_TYPE', 'NAME_EDUCATION_TYPE', 'NAME_FAMILY_STATUS', 'NAME_HOUSING_TYPE', 'REGION_POPULATION_RELATIVE', 'DAYS_BIRTH', 'DAYS_EMPLOYED', 'DAYS_REGISTRATION', 'DAYS_ID_PUBLISH', 'OWN_CAR_AGE', 'FLAG_MOBIL', 'FLAG_EMP_PHONE', 'FLAG_WORK_PHONE', 'FLAG_CONT_MOBILE', 'FLAG_PHONE', 'FLAG_EMAIL', 'OCCUPATION_TYPE', 'CNT_FAM_MEMBERS', 'REGION_RATING_CLIENT', 'REGION_RATING_CLIENT_W_CITY', 'WEEKDAY_APPR_PROCESS_START', 'HOUR_APPR_PROCESS_START', 'REG_REGION_NOT_LIVE_REGION', 'REG_REGION_NOT_WORK_REGION', 'LIVE_REGION_NOT_WORK_REGION', 'REG_CITY_NOT_LIVE_CITY', 'REG_CITY_NOT_WORK_CITY', 'LIVE_CITY_NOT_WORK_CITY', 'ORGANIZATION_TYPE', 'EXT_SOURCE_1', 'EXT_SOURCE_2', 'EXT_SOURCE_3', 'APARTMENTS_AVG', 'BASEMENTAREA_AVG', 'YEARS_BEGINEXPLUATATION_AVG', 'YEARS_BUILD_AVG', 'COMMONAREA_AVG', 'ELEVATORS_AVG', 'ENTRANCES_AVG', 'FLOORSMAX_AVG', 'FLOORSMIN_AVG', 'LANDAREA_AVG', 'LIVINGAPARTMENTS_AVG', 'LIVINGAREA_AVG', 'NONLIVINGAPARTMENTS_AVG', 'NONLIVINGAREA_AVG', 'APARTMENTS_MODE', 'BASEMENTAREA_MODE', 'YEARS_BEGINEXPLUATATION_MODE', 'YEARS_BUILD_MODE', 'COMMONAREA_MODE', 'ELEVATORS_MODE', 'ENTRANCES_MODE', 'FLOORSMAX_MODE', 'FLOORSMIN_MODE', 'LANDAREA_MODE', 'LIVINGAPARTMENTS_MODE', 'LIVINGAREA_MODE', 'NONLIVINGAPARTMENTS_MODE', 'NONLIVINGAREA_MODE', 'APARTMENTS_MEDI', 'BASEMENTAREA_MEDI', 'YEARS_BEGINEXPLUATATION_MEDI', 'YEARS_BUILD_MEDI', 'COMMONAREA_MEDI', 'ELEVATORS_MEDI', 'ENTRANCES_MEDI', 'FLOORSMAX_MEDI', 'FLOORSMIN_MEDI', 'LANDAREA_MEDI', 'LIVINGAPARTMENTS_MEDI', 'LIVINGAREA_MEDI', 'NONLIVINGAPARTMENTS_MEDI', 'NONLIVINGAREA_MEDI', 'FONDKAPREMONT_MODE', 'HOUSETYPE_MODE', 'TOTALAREA_MODE', 'WALLSMATERIAL_MODE', 'EMERGENCYSTATE_MODE', 'OBS_30_CNT_SOCIAL_CIRCLE', 'DEF_30_CNT_SOCIAL_CIRCLE', 'OBS_60_CNT_SOCIAL_CIRCLE', 'DEF_60_CNT_SOCIAL_CIRCLE', 'DAYS_LAST_PHONE_CHANGE', 'FLAG_DOCUMENT_2', 'FLAG_DOCUMENT_3', 'FLAG_DOCUMENT_4', 'FLAG_DOCUMENT_5', 'FLAG_DOCUMENT_6', 'FLAG_DOCUMENT_7', 'FLAG_DOCUMENT_8', 'FLAG_DOCUMENT_9', 'FLAG_DOCUMENT_10', 'FLAG_DOCUMENT_11', 'FLAG_DOCUMENT_12', 'FLAG_DOCUMENT_13', 'FLAG_DOCUMENT_14', 'FLAG_DOCUMENT_15', 'FLAG_DOCUMENT_16', 'FLAG_DOCUMENT_17', 'FLAG_DOCUMENT_18', 'FLAG_DOCUMENT_19', 'FLAG_DOCUMENT_20', 'FLAG_DOCUMENT_21', 'AMT_REQ_CREDIT_BUREAU_HOUR', 'AMT_REQ_CREDIT_BUREAU_DAY', 'AMT_REQ_CREDIT_BUREAU_WEEK', 'AMT_REQ_CREDIT_BUREAU_MON', 'AMT_REQ_CREDIT_BUREAU_QRT', 'AMT_REQ_CREDIT_BUREAU_YEAR']\n"
          ],
          "name": "stdout"
        }
      ]
    },
    {
      "cell_type": "markdown",
      "metadata": {
        "id": "elT8BJ3m46q4",
        "colab_type": "text"
      },
      "source": [
        "#### Check counts of each type of class/ target"
      ]
    },
    {
      "cell_type": "code",
      "metadata": {
        "colab_type": "code",
        "id": "QPfxuR4O64KP",
        "outputId": "1d9c8394-11ee-47b8-f6a8-01baf756aef4",
        "colab": {
          "base_uri": "https://localhost:8080/",
          "height": 72
        }
      },
      "source": [
        "df['TARGET'].value_counts()"
      ],
      "execution_count": 0,
      "outputs": [
        {
          "output_type": "execute_result",
          "data": {
            "text/plain": [
              "0    282686\n",
              "1     24825\n",
              "Name: TARGET, dtype: int64"
            ]
          },
          "metadata": {
            "tags": []
          },
          "execution_count": 11
        }
      ]
    },
    {
      "cell_type": "markdown",
      "metadata": {
        "id": "brkI3IyN5FnU",
        "colab_type": "text"
      },
      "source": [
        "Clearly, the data is skewed in direction of target=0 or no-risk assignment"
      ]
    },
    {
      "cell_type": "markdown",
      "metadata": {
        "id": "g2TpmKUF5V4F",
        "colab_type": "text"
      },
      "source": [
        "#### Attributes for calculating correlation"
      ]
    },
    {
      "cell_type": "code",
      "metadata": {
        "colab_type": "code",
        "id": "ypjF5J4nGgHA",
        "colab": {}
      },
      "source": [
        "col_list = ['TARGET', 'NAME_CONTRACT_TYPE', 'CODE_GENDER', 'FLAG_OWN_CAR', 'FLAG_OWN_REALTY', 'CNT_CHILDREN', 'AMT_INCOME_TOTAL', 'AMT_CREDIT', 'AMT_ANNUITY',\n",
        "            'AMT_GOODS_PRICE', 'NAME_TYPE_SUITE', 'NAME_INCOME_TYPE', 'NAME_EDUCATION_TYPE', 'NAME_FAMILY_STATUS', 'NAME_HOUSING_TYPE', 'REGION_POPULATION_RELATIVE',\n",
        "            'DAYS_BIRTH', 'DAYS_EMPLOYED', 'DAYS_REGISTRATION', 'DAYS_ID_PUBLISH', 'OWN_CAR_AGE', 'FLAG_MOBIL', 'FLAG_EMP_PHONE', 'FLAG_WORK_PHONE', 'FLAG_CONT_MOBILE',\n",
        "            'FLAG_PHONE', 'FLAG_EMAIL', 'OCCUPATION_TYPE', 'CNT_FAM_MEMBERS', 'REGION_RATING_CLIENT', 'REGION_RATING_CLIENT_W_CITY', 'WEEKDAY_APPR_PROCESS_START',\n",
        "            'HOUR_APPR_PROCESS_START', 'REG_REGION_NOT_LIVE_REGION', 'REG_REGION_NOT_WORK_REGION', 'LIVE_REGION_NOT_WORK_REGION', 'REG_CITY_NOT_LIVE_CITY',\n",
        "            'REG_CITY_NOT_WORK_CITY', 'LIVE_CITY_NOT_WORK_CITY', 'ORGANIZATION_TYPE', 'EXT_SOURCE_1', 'EXT_SOURCE_2', 'EXT_SOURCE_3', 'APARTMENTS_AVG',\n",
        "            'BASEMENTAREA_AVG', 'YEARS_BEGINEXPLUATATION_AVG', 'YEARS_BUILD_AVG', 'COMMONAREA_AVG', 'ELEVATORS_AVG', 'ENTRANCES_AVG', 'FLOORSMAX_AVG', 'FLOORSMIN_AVG',\n",
        "            'LANDAREA_AVG', 'LIVINGAPARTMENTS_AVG', 'LIVINGAREA_AVG', 'NONLIVINGAPARTMENTS_AVG', 'NONLIVINGAREA_AVG', 'APARTMENTS_MODE', 'BASEMENTAREA_MODE',\n",
        "            'YEARS_BEGINEXPLUATATION_MODE', 'YEARS_BUILD_MODE', 'COMMONAREA_MODE', 'ELEVATORS_MODE', 'ENTRANCES_MODE', 'FLOORSMAX_MODE', 'FLOORSMIN_MODE',\n",
        "            'LANDAREA_MODE', 'LIVINGAPARTMENTS_MODE', 'LIVINGAREA_MODE', 'NONLIVINGAPARTMENTS_MODE', 'NONLIVINGAREA_MODE', 'APARTMENTS_MEDI', 'BASEMENTAREA_MEDI',\n",
        "            'YEARS_BEGINEXPLUATATION_MEDI', 'YEARS_BUILD_MEDI', 'COMMONAREA_MEDI', 'ELEVATORS_MEDI', 'ENTRANCES_MEDI', 'FLOORSMAX_MEDI', 'FLOORSMIN_MEDI',\n",
        "            'LANDAREA_MEDI', 'LIVINGAPARTMENTS_MEDI', 'LIVINGAREA_MEDI', 'NONLIVINGAPARTMENTS_MEDI', 'NONLIVINGAREA_MEDI', 'FONDKAPREMONT_MODE', 'HOUSETYPE_MODE',\n",
        "            'TOTALAREA_MODE', 'WALLSMATERIAL_MODE', 'EMERGENCYSTATE_MODE', 'OBS_30_CNT_SOCIAL_CIRCLE', 'DEF_30_CNT_SOCIAL_CIRCLE', 'OBS_60_CNT_SOCIAL_CIRCLE',\n",
        "            'DEF_60_CNT_SOCIAL_CIRCLE']"
      ],
      "execution_count": 0,
      "outputs": []
    },
    {
      "cell_type": "code",
      "metadata": {
        "colab_type": "code",
        "id": "CtfY7dveFmCU",
        "outputId": "90f658fc-3e5a-4697-bacd-3ff8623f6cf2",
        "colab": {
          "base_uri": "https://localhost:8080/",
          "height": 427
        }
      },
      "source": [
        "df[col_list].corr()"
      ],
      "execution_count": 0,
      "outputs": [
        {
          "output_type": "execute_result",
          "data": {
            "text/html": [
              "<div>\n",
              "<style scoped>\n",
              "    .dataframe tbody tr th:only-of-type {\n",
              "        vertical-align: middle;\n",
              "    }\n",
              "\n",
              "    .dataframe tbody tr th {\n",
              "        vertical-align: top;\n",
              "    }\n",
              "\n",
              "    .dataframe thead th {\n",
              "        text-align: right;\n",
              "    }\n",
              "</style>\n",
              "<table border=\"1\" class=\"dataframe\">\n",
              "  <thead>\n",
              "    <tr style=\"text-align: right;\">\n",
              "      <th></th>\n",
              "      <th>SK_ID_CURR</th>\n",
              "      <th>TARGET</th>\n",
              "      <th>CNT_CHILDREN</th>\n",
              "      <th>AMT_INCOME_TOTAL</th>\n",
              "      <th>AMT_CREDIT</th>\n",
              "      <th>AMT_ANNUITY</th>\n",
              "      <th>AMT_GOODS_PRICE</th>\n",
              "      <th>REGION_POPULATION_RELATIVE</th>\n",
              "      <th>DAYS_BIRTH</th>\n",
              "      <th>DAYS_EMPLOYED</th>\n",
              "      <th>DAYS_REGISTRATION</th>\n",
              "      <th>DAYS_ID_PUBLISH</th>\n",
              "      <th>OWN_CAR_AGE</th>\n",
              "      <th>FLAG_MOBIL</th>\n",
              "      <th>FLAG_EMP_PHONE</th>\n",
              "      <th>FLAG_WORK_PHONE</th>\n",
              "      <th>FLAG_CONT_MOBILE</th>\n",
              "      <th>FLAG_PHONE</th>\n",
              "      <th>FLAG_EMAIL</th>\n",
              "      <th>CNT_FAM_MEMBERS</th>\n",
              "      <th>REGION_RATING_CLIENT</th>\n",
              "      <th>REGION_RATING_CLIENT_W_CITY</th>\n",
              "      <th>HOUR_APPR_PROCESS_START</th>\n",
              "      <th>REG_REGION_NOT_LIVE_REGION</th>\n",
              "      <th>REG_REGION_NOT_WORK_REGION</th>\n",
              "      <th>LIVE_REGION_NOT_WORK_REGION</th>\n",
              "      <th>REG_CITY_NOT_LIVE_CITY</th>\n",
              "      <th>REG_CITY_NOT_WORK_CITY</th>\n",
              "      <th>LIVE_CITY_NOT_WORK_CITY</th>\n",
              "      <th>EXT_SOURCE_1</th>\n",
              "      <th>EXT_SOURCE_2</th>\n",
              "      <th>EXT_SOURCE_3</th>\n",
              "      <th>APARTMENTS_AVG</th>\n",
              "      <th>BASEMENTAREA_AVG</th>\n",
              "      <th>YEARS_BEGINEXPLUATATION_AVG</th>\n",
              "      <th>YEARS_BUILD_AVG</th>\n",
              "      <th>COMMONAREA_AVG</th>\n",
              "      <th>ELEVATORS_AVG</th>\n",
              "      <th>ENTRANCES_AVG</th>\n",
              "      <th>FLOORSMAX_AVG</th>\n",
              "      <th>FLOORSMIN_AVG</th>\n",
              "      <th>LANDAREA_AVG</th>\n",
              "      <th>LIVINGAPARTMENTS_AVG</th>\n",
              "      <th>LIVINGAREA_AVG</th>\n",
              "      <th>NONLIVINGAPARTMENTS_AVG</th>\n",
              "      <th>NONLIVINGAREA_AVG</th>\n",
              "      <th>APARTMENTS_MODE</th>\n",
              "      <th>BASEMENTAREA_MODE</th>\n",
              "      <th>YEARS_BEGINEXPLUATATION_MODE</th>\n",
              "      <th>YEARS_BUILD_MODE</th>\n",
              "      <th>COMMONAREA_MODE</th>\n",
              "      <th>ELEVATORS_MODE</th>\n",
              "      <th>ENTRANCES_MODE</th>\n",
              "      <th>FLOORSMAX_MODE</th>\n",
              "      <th>FLOORSMIN_MODE</th>\n",
              "      <th>LANDAREA_MODE</th>\n",
              "      <th>LIVINGAPARTMENTS_MODE</th>\n",
              "      <th>LIVINGAREA_MODE</th>\n",
              "      <th>NONLIVINGAPARTMENTS_MODE</th>\n",
              "      <th>NONLIVINGAREA_MODE</th>\n",
              "      <th>APARTMENTS_MEDI</th>\n",
              "      <th>BASEMENTAREA_MEDI</th>\n",
              "      <th>YEARS_BEGINEXPLUATATION_MEDI</th>\n",
              "      <th>YEARS_BUILD_MEDI</th>\n",
              "      <th>COMMONAREA_MEDI</th>\n",
              "      <th>ELEVATORS_MEDI</th>\n",
              "      <th>ENTRANCES_MEDI</th>\n",
              "      <th>FLOORSMAX_MEDI</th>\n",
              "      <th>FLOORSMIN_MEDI</th>\n",
              "      <th>LANDAREA_MEDI</th>\n",
              "      <th>LIVINGAPARTMENTS_MEDI</th>\n",
              "      <th>LIVINGAREA_MEDI</th>\n",
              "      <th>NONLIVINGAPARTMENTS_MEDI</th>\n",
              "      <th>NONLIVINGAREA_MEDI</th>\n",
              "      <th>TOTALAREA_MODE</th>\n",
              "      <th>OBS_30_CNT_SOCIAL_CIRCLE</th>\n",
              "      <th>DEF_30_CNT_SOCIAL_CIRCLE</th>\n",
              "      <th>OBS_60_CNT_SOCIAL_CIRCLE</th>\n",
              "      <th>DEF_60_CNT_SOCIAL_CIRCLE</th>\n",
              "    </tr>\n",
              "  </thead>\n",
              "  <tbody>\n",
              "    <tr>\n",
              "      <th>SK_ID_CURR</th>\n",
              "      <td>1.000000</td>\n",
              "      <td>0.096772</td>\n",
              "      <td>0.200754</td>\n",
              "      <td>0.207443</td>\n",
              "      <td>0.405302</td>\n",
              "      <td>0.472259</td>\n",
              "      <td>0.399500</td>\n",
              "      <td>0.406324</td>\n",
              "      <td>-0.651467</td>\n",
              "      <td>-0.299456</td>\n",
              "      <td>-0.389938</td>\n",
              "      <td>-0.465364</td>\n",
              "      <td>0.443153</td>\n",
              "      <td>0.754001</td>\n",
              "      <td>0.753922</td>\n",
              "      <td>0.176251</td>\n",
              "      <td>0.749838</td>\n",
              "      <td>0.194281</td>\n",
              "      <td>0.082961</td>\n",
              "      <td>0.536231</td>\n",
              "      <td>0.649044</td>\n",
              "      <td>0.649209</td>\n",
              "      <td>0.635934</td>\n",
              "      <td>0.041633</td>\n",
              "      <td>0.082622</td>\n",
              "      <td>0.074945</td>\n",
              "      <td>0.097904</td>\n",
              "      <td>0.192473</td>\n",
              "      <td>0.165568</td>\n",
              "      <td>0.663640</td>\n",
              "      <td>0.570930</td>\n",
              "      <td>0.597428</td>\n",
              "      <td>0.428986</td>\n",
              "      <td>0.450980</td>\n",
              "      <td>0.823257</td>\n",
              "      <td>0.838030</td>\n",
              "      <td>0.307107</td>\n",
              "      <td>0.266334</td>\n",
              "      <td>0.526878</td>\n",
              "      <td>0.543060</td>\n",
              "      <td>0.583577</td>\n",
              "      <td>0.367433</td>\n",
              "      <td>0.494708</td>\n",
              "      <td>0.393450</td>\n",
              "      <td>0.103046</td>\n",
              "      <td>0.191674</td>\n",
              "      <td>0.421309</td>\n",
              "      <td>0.440442</td>\n",
              "      <td>0.822283</td>\n",
              "      <td>0.839616</td>\n",
              "      <td>0.299642</td>\n",
              "      <td>0.257050</td>\n",
              "      <td>0.514120</td>\n",
              "      <td>0.539298</td>\n",
              "      <td>0.578382</td>\n",
              "      <td>0.359068</td>\n",
              "      <td>0.491768</td>\n",
              "      <td>0.385978</td>\n",
              "      <td>0.097301</td>\n",
              "      <td>0.180675</td>\n",
              "      <td>0.427873</td>\n",
              "      <td>0.450119</td>\n",
              "      <td>0.823116</td>\n",
              "      <td>0.838702</td>\n",
              "      <td>0.306460</td>\n",
              "      <td>0.264052</td>\n",
              "      <td>0.524903</td>\n",
              "      <td>0.541511</td>\n",
              "      <td>0.582069</td>\n",
              "      <td>0.367517</td>\n",
              "      <td>0.494880</td>\n",
              "      <td>0.392357</td>\n",
              "      <td>0.101392</td>\n",
              "      <td>0.188806</td>\n",
              "      <td>0.381729</td>\n",
              "      <td>0.183494</td>\n",
              "      <td>0.101849</td>\n",
              "      <td>0.182933</td>\n",
              "      <td>0.088418</td>\n",
              "    </tr>\n",
              "    <tr>\n",
              "      <th>TARGET</th>\n",
              "      <td>0.096772</td>\n",
              "      <td>1.000000</td>\n",
              "      <td>0.042006</td>\n",
              "      <td>0.028915</td>\n",
              "      <td>0.035716</td>\n",
              "      <td>0.065820</td>\n",
              "      <td>0.026356</td>\n",
              "      <td>0.035813</td>\n",
              "      <td>-0.078963</td>\n",
              "      <td>0.016768</td>\n",
              "      <td>-0.036434</td>\n",
              "      <td>-0.048815</td>\n",
              "      <td>0.121343</td>\n",
              "      <td>0.129562</td>\n",
              "      <td>0.129545</td>\n",
              "      <td>0.049149</td>\n",
              "      <td>0.128914</td>\n",
              "      <td>0.009862</td>\n",
              "      <td>0.008328</td>\n",
              "      <td>0.091006</td>\n",
              "      <td>0.144391</td>\n",
              "      <td>0.145578</td>\n",
              "      <td>0.092692</td>\n",
              "      <td>0.011620</td>\n",
              "      <td>0.016118</td>\n",
              "      <td>0.010784</td>\n",
              "      <td>0.058373</td>\n",
              "      <td>0.074806</td>\n",
              "      <td>0.052202</td>\n",
              "      <td>0.034447</td>\n",
              "      <td>-0.012730</td>\n",
              "      <td>-0.009126</td>\n",
              "      <td>0.051422</td>\n",
              "      <td>0.065902</td>\n",
              "      <td>0.151242</td>\n",
              "      <td>0.163542</td>\n",
              "      <td>0.042722</td>\n",
              "      <td>0.013529</td>\n",
              "      <td>0.083419</td>\n",
              "      <td>0.063460</td>\n",
              "      <td>0.090525</td>\n",
              "      <td>0.061954</td>\n",
              "      <td>0.076354</td>\n",
              "      <td>0.040549</td>\n",
              "      <td>0.015034</td>\n",
              "      <td>0.020471</td>\n",
              "      <td>0.051976</td>\n",
              "      <td>0.066168</td>\n",
              "      <td>0.151050</td>\n",
              "      <td>0.164141</td>\n",
              "      <td>0.043226</td>\n",
              "      <td>0.013787</td>\n",
              "      <td>0.082255</td>\n",
              "      <td>0.063309</td>\n",
              "      <td>0.090129</td>\n",
              "      <td>0.060955</td>\n",
              "      <td>0.076940</td>\n",
              "      <td>0.041483</td>\n",
              "      <td>0.015385</td>\n",
              "      <td>0.019554</td>\n",
              "      <td>0.051495</td>\n",
              "      <td>0.066273</td>\n",
              "      <td>0.151171</td>\n",
              "      <td>0.163753</td>\n",
              "      <td>0.042551</td>\n",
              "      <td>0.013414</td>\n",
              "      <td>0.083143</td>\n",
              "      <td>0.063346</td>\n",
              "      <td>0.090337</td>\n",
              "      <td>0.061469</td>\n",
              "      <td>0.076789</td>\n",
              "      <td>0.040757</td>\n",
              "      <td>0.015152</td>\n",
              "      <td>0.020230</td>\n",
              "      <td>0.038035</td>\n",
              "      <td>0.042428</td>\n",
              "      <td>0.052568</td>\n",
              "      <td>0.042282</td>\n",
              "      <td>0.048633</td>\n",
              "    </tr>\n",
              "    <tr>\n",
              "      <th>CNT_CHILDREN</th>\n",
              "      <td>0.200754</td>\n",
              "      <td>0.042006</td>\n",
              "      <td>1.000000</td>\n",
              "      <td>0.070739</td>\n",
              "      <td>0.129312</td>\n",
              "      <td>0.163102</td>\n",
              "      <td>0.124002</td>\n",
              "      <td>0.118895</td>\n",
              "      <td>-0.115513</td>\n",
              "      <td>-0.051993</td>\n",
              "      <td>-0.006359</td>\n",
              "      <td>-0.251955</td>\n",
              "      <td>0.214920</td>\n",
              "      <td>0.267125</td>\n",
              "      <td>0.267111</td>\n",
              "      <td>0.061804</td>\n",
              "      <td>0.265888</td>\n",
              "      <td>0.041214</td>\n",
              "      <td>0.036652</td>\n",
              "      <td>0.794518</td>\n",
              "      <td>0.248976</td>\n",
              "      <td>0.248939</td>\n",
              "      <td>0.207782</td>\n",
              "      <td>-0.007983</td>\n",
              "      <td>0.010921</td>\n",
              "      <td>0.017323</td>\n",
              "      <td>0.032344</td>\n",
              "      <td>0.077483</td>\n",
              "      <td>0.075866</td>\n",
              "      <td>0.246009</td>\n",
              "      <td>0.185909</td>\n",
              "      <td>0.214560</td>\n",
              "      <td>0.157813</td>\n",
              "      <td>0.181458</td>\n",
              "      <td>0.331275</td>\n",
              "      <td>0.373251</td>\n",
              "      <td>0.134739</td>\n",
              "      <td>0.098046</td>\n",
              "      <td>0.207826</td>\n",
              "      <td>0.207050</td>\n",
              "      <td>0.246800</td>\n",
              "      <td>0.150377</td>\n",
              "      <td>0.206552</td>\n",
              "      <td>0.146374</td>\n",
              "      <td>0.049096</td>\n",
              "      <td>0.075392</td>\n",
              "      <td>0.156045</td>\n",
              "      <td>0.177247</td>\n",
              "      <td>0.330875</td>\n",
              "      <td>0.373660</td>\n",
              "      <td>0.131747</td>\n",
              "      <td>0.095163</td>\n",
              "      <td>0.204100</td>\n",
              "      <td>0.205962</td>\n",
              "      <td>0.245240</td>\n",
              "      <td>0.147903</td>\n",
              "      <td>0.205934</td>\n",
              "      <td>0.144218</td>\n",
              "      <td>0.046381</td>\n",
              "      <td>0.071730</td>\n",
              "      <td>0.157538</td>\n",
              "      <td>0.180738</td>\n",
              "      <td>0.331168</td>\n",
              "      <td>0.373430</td>\n",
              "      <td>0.134765</td>\n",
              "      <td>0.097402</td>\n",
              "      <td>0.207002</td>\n",
              "      <td>0.206700</td>\n",
              "      <td>0.246500</td>\n",
              "      <td>0.150626</td>\n",
              "      <td>0.207152</td>\n",
              "      <td>0.145825</td>\n",
              "      <td>0.048574</td>\n",
              "      <td>0.074360</td>\n",
              "      <td>0.141480</td>\n",
              "      <td>0.084013</td>\n",
              "      <td>0.039153</td>\n",
              "      <td>0.083484</td>\n",
              "      <td>0.032752</td>\n",
              "    </tr>\n",
              "    <tr>\n",
              "      <th>AMT_INCOME_TOTAL</th>\n",
              "      <td>0.207443</td>\n",
              "      <td>0.028915</td>\n",
              "      <td>0.070739</td>\n",
              "      <td>1.000000</td>\n",
              "      <td>0.264972</td>\n",
              "      <td>0.305074</td>\n",
              "      <td>0.265790</td>\n",
              "      <td>0.207544</td>\n",
              "      <td>-0.249451</td>\n",
              "      <td>-0.121499</td>\n",
              "      <td>-0.132841</td>\n",
              "      <td>-0.181142</td>\n",
              "      <td>0.260262</td>\n",
              "      <td>0.277092</td>\n",
              "      <td>0.277022</td>\n",
              "      <td>0.033531</td>\n",
              "      <td>0.274715</td>\n",
              "      <td>0.073139</td>\n",
              "      <td>0.061822</td>\n",
              "      <td>0.197181</td>\n",
              "      <td>0.198998</td>\n",
              "      <td>0.196130</td>\n",
              "      <td>0.247286</td>\n",
              "      <td>0.042620</td>\n",
              "      <td>0.083883</td>\n",
              "      <td>0.077163</td>\n",
              "      <td>0.033597</td>\n",
              "      <td>0.061349</td>\n",
              "      <td>0.055155</td>\n",
              "      <td>0.238303</td>\n",
              "      <td>0.245700</td>\n",
              "      <td>0.203781</td>\n",
              "      <td>0.174256</td>\n",
              "      <td>0.164767</td>\n",
              "      <td>0.286200</td>\n",
              "      <td>0.714782</td>\n",
              "      <td>0.319033</td>\n",
              "      <td>0.129042</td>\n",
              "      <td>0.187102</td>\n",
              "      <td>0.228521</td>\n",
              "      <td>0.563840</td>\n",
              "      <td>0.120250</td>\n",
              "      <td>0.479200</td>\n",
              "      <td>0.167774</td>\n",
              "      <td>0.107955</td>\n",
              "      <td>0.210843</td>\n",
              "      <td>0.168224</td>\n",
              "      <td>0.157882</td>\n",
              "      <td>0.285875</td>\n",
              "      <td>0.715208</td>\n",
              "      <td>0.303784</td>\n",
              "      <td>0.122512</td>\n",
              "      <td>0.180357</td>\n",
              "      <td>0.225824</td>\n",
              "      <td>0.556229</td>\n",
              "      <td>0.115779</td>\n",
              "      <td>0.468807</td>\n",
              "      <td>0.161172</td>\n",
              "      <td>0.100537</td>\n",
              "      <td>0.193362</td>\n",
              "      <td>0.173287</td>\n",
              "      <td>0.163739</td>\n",
              "      <td>0.286161</td>\n",
              "      <td>0.715215</td>\n",
              "      <td>0.317176</td>\n",
              "      <td>0.127489</td>\n",
              "      <td>0.185972</td>\n",
              "      <td>0.227776</td>\n",
              "      <td>0.562084</td>\n",
              "      <td>0.119967</td>\n",
              "      <td>0.478073</td>\n",
              "      <td>0.166751</td>\n",
              "      <td>0.106256</td>\n",
              "      <td>0.205880</td>\n",
              "      <td>0.166194</td>\n",
              "      <td>0.054234</td>\n",
              "      <td>0.024376</td>\n",
              "      <td>0.054129</td>\n",
              "      <td>0.019655</td>\n",
              "    </tr>\n",
              "    <tr>\n",
              "      <th>AMT_CREDIT</th>\n",
              "      <td>0.405302</td>\n",
              "      <td>0.035716</td>\n",
              "      <td>0.129312</td>\n",
              "      <td>0.264972</td>\n",
              "      <td>1.000000</td>\n",
              "      <td>0.837259</td>\n",
              "      <td>0.990267</td>\n",
              "      <td>0.362985</td>\n",
              "      <td>-0.531426</td>\n",
              "      <td>-0.284255</td>\n",
              "      <td>-0.291324</td>\n",
              "      <td>-0.357506</td>\n",
              "      <td>0.295412</td>\n",
              "      <td>0.537979</td>\n",
              "      <td>0.537845</td>\n",
              "      <td>0.092239</td>\n",
              "      <td>0.537287</td>\n",
              "      <td>0.162111</td>\n",
              "      <td>0.067803</td>\n",
              "      <td>0.405287</td>\n",
              "      <td>0.417956</td>\n",
              "      <td>0.414286</td>\n",
              "      <td>0.472143</td>\n",
              "      <td>0.047589</td>\n",
              "      <td>0.099616</td>\n",
              "      <td>0.094559</td>\n",
              "      <td>0.038647</td>\n",
              "      <td>0.105082</td>\n",
              "      <td>0.104763</td>\n",
              "      <td>0.599595</td>\n",
              "      <td>0.483901</td>\n",
              "      <td>0.474026</td>\n",
              "      <td>0.367250</td>\n",
              "      <td>0.376405</td>\n",
              "      <td>0.630487</td>\n",
              "      <td>0.671267</td>\n",
              "      <td>0.277846</td>\n",
              "      <td>0.260513</td>\n",
              "      <td>0.414790</td>\n",
              "      <td>0.474047</td>\n",
              "      <td>0.506140</td>\n",
              "      <td>0.290499</td>\n",
              "      <td>0.427084</td>\n",
              "      <td>0.349179</td>\n",
              "      <td>0.093376</td>\n",
              "      <td>0.175750</td>\n",
              "      <td>0.356761</td>\n",
              "      <td>0.363295</td>\n",
              "      <td>0.629620</td>\n",
              "      <td>0.672085</td>\n",
              "      <td>0.267165</td>\n",
              "      <td>0.249318</td>\n",
              "      <td>0.402037</td>\n",
              "      <td>0.470158</td>\n",
              "      <td>0.501072</td>\n",
              "      <td>0.281986</td>\n",
              "      <td>0.420132</td>\n",
              "      <td>0.338186</td>\n",
              "      <td>0.086647</td>\n",
              "      <td>0.163785</td>\n",
              "      <td>0.365087</td>\n",
              "      <td>0.374308</td>\n",
              "      <td>0.630350</td>\n",
              "      <td>0.671701</td>\n",
              "      <td>0.276448</td>\n",
              "      <td>0.257582</td>\n",
              "      <td>0.412449</td>\n",
              "      <td>0.472806</td>\n",
              "      <td>0.504965</td>\n",
              "      <td>0.290162</td>\n",
              "      <td>0.425991</td>\n",
              "      <td>0.347255</td>\n",
              "      <td>0.091753</td>\n",
              "      <td>0.172027</td>\n",
              "      <td>0.339914</td>\n",
              "      <td>0.128708</td>\n",
              "      <td>0.051499</td>\n",
              "      <td>0.128378</td>\n",
              "      <td>0.039887</td>\n",
              "    </tr>\n",
              "    <tr>\n",
              "      <th>...</th>\n",
              "      <td>...</td>\n",
              "      <td>...</td>\n",
              "      <td>...</td>\n",
              "      <td>...</td>\n",
              "      <td>...</td>\n",
              "      <td>...</td>\n",
              "      <td>...</td>\n",
              "      <td>...</td>\n",
              "      <td>...</td>\n",
              "      <td>...</td>\n",
              "      <td>...</td>\n",
              "      <td>...</td>\n",
              "      <td>...</td>\n",
              "      <td>...</td>\n",
              "      <td>...</td>\n",
              "      <td>...</td>\n",
              "      <td>...</td>\n",
              "      <td>...</td>\n",
              "      <td>...</td>\n",
              "      <td>...</td>\n",
              "      <td>...</td>\n",
              "      <td>...</td>\n",
              "      <td>...</td>\n",
              "      <td>...</td>\n",
              "      <td>...</td>\n",
              "      <td>...</td>\n",
              "      <td>...</td>\n",
              "      <td>...</td>\n",
              "      <td>...</td>\n",
              "      <td>...</td>\n",
              "      <td>...</td>\n",
              "      <td>...</td>\n",
              "      <td>...</td>\n",
              "      <td>...</td>\n",
              "      <td>...</td>\n",
              "      <td>...</td>\n",
              "      <td>...</td>\n",
              "      <td>...</td>\n",
              "      <td>...</td>\n",
              "      <td>...</td>\n",
              "      <td>...</td>\n",
              "      <td>...</td>\n",
              "      <td>...</td>\n",
              "      <td>...</td>\n",
              "      <td>...</td>\n",
              "      <td>...</td>\n",
              "      <td>...</td>\n",
              "      <td>...</td>\n",
              "      <td>...</td>\n",
              "      <td>...</td>\n",
              "      <td>...</td>\n",
              "      <td>...</td>\n",
              "      <td>...</td>\n",
              "      <td>...</td>\n",
              "      <td>...</td>\n",
              "      <td>...</td>\n",
              "      <td>...</td>\n",
              "      <td>...</td>\n",
              "      <td>...</td>\n",
              "      <td>...</td>\n",
              "      <td>...</td>\n",
              "      <td>...</td>\n",
              "      <td>...</td>\n",
              "      <td>...</td>\n",
              "      <td>...</td>\n",
              "      <td>...</td>\n",
              "      <td>...</td>\n",
              "      <td>...</td>\n",
              "      <td>...</td>\n",
              "      <td>...</td>\n",
              "      <td>...</td>\n",
              "      <td>...</td>\n",
              "      <td>...</td>\n",
              "      <td>...</td>\n",
              "      <td>...</td>\n",
              "      <td>...</td>\n",
              "      <td>...</td>\n",
              "      <td>...</td>\n",
              "      <td>...</td>\n",
              "    </tr>\n",
              "    <tr>\n",
              "      <th>TOTALAREA_MODE</th>\n",
              "      <td>0.381729</td>\n",
              "      <td>0.038035</td>\n",
              "      <td>0.141480</td>\n",
              "      <td>0.166194</td>\n",
              "      <td>0.339914</td>\n",
              "      <td>0.383076</td>\n",
              "      <td>0.340140</td>\n",
              "      <td>0.423657</td>\n",
              "      <td>-0.421994</td>\n",
              "      <td>-0.221180</td>\n",
              "      <td>-0.269793</td>\n",
              "      <td>-0.337806</td>\n",
              "      <td>0.280218</td>\n",
              "      <td>0.459976</td>\n",
              "      <td>0.459944</td>\n",
              "      <td>0.111467</td>\n",
              "      <td>0.457543</td>\n",
              "      <td>0.204055</td>\n",
              "      <td>0.103140</td>\n",
              "      <td>0.359665</td>\n",
              "      <td>0.346843</td>\n",
              "      <td>0.340918</td>\n",
              "      <td>0.443088</td>\n",
              "      <td>0.032100</td>\n",
              "      <td>0.075166</td>\n",
              "      <td>0.080709</td>\n",
              "      <td>0.000427</td>\n",
              "      <td>0.013285</td>\n",
              "      <td>0.023189</td>\n",
              "      <td>0.496752</td>\n",
              "      <td>0.435099</td>\n",
              "      <td>0.410005</td>\n",
              "      <td>0.915645</td>\n",
              "      <td>0.760488</td>\n",
              "      <td>0.469535</td>\n",
              "      <td>0.587674</td>\n",
              "      <td>0.625486</td>\n",
              "      <td>0.853433</td>\n",
              "      <td>0.703257</td>\n",
              "      <td>0.728739</td>\n",
              "      <td>0.645008</td>\n",
              "      <td>0.598812</td>\n",
              "      <td>0.892099</td>\n",
              "      <td>0.942452</td>\n",
              "      <td>0.186329</td>\n",
              "      <td>0.426034</td>\n",
              "      <td>0.893457</td>\n",
              "      <td>0.741426</td>\n",
              "      <td>0.469630</td>\n",
              "      <td>0.585519</td>\n",
              "      <td>0.614384</td>\n",
              "      <td>0.830804</td>\n",
              "      <td>0.678803</td>\n",
              "      <td>0.723867</td>\n",
              "      <td>0.637389</td>\n",
              "      <td>0.585122</td>\n",
              "      <td>0.882064</td>\n",
              "      <td>0.921288</td>\n",
              "      <td>0.177884</td>\n",
              "      <td>0.404424</td>\n",
              "      <td>0.911234</td>\n",
              "      <td>0.758088</td>\n",
              "      <td>0.469448</td>\n",
              "      <td>0.586842</td>\n",
              "      <td>0.624440</td>\n",
              "      <td>0.847504</td>\n",
              "      <td>0.698636</td>\n",
              "      <td>0.727002</td>\n",
              "      <td>0.643321</td>\n",
              "      <td>0.599558</td>\n",
              "      <td>0.891013</td>\n",
              "      <td>0.937755</td>\n",
              "      <td>0.185118</td>\n",
              "      <td>0.420563</td>\n",
              "      <td>1.000000</td>\n",
              "      <td>0.111883</td>\n",
              "      <td>0.060606</td>\n",
              "      <td>0.111747</td>\n",
              "      <td>0.048787</td>\n",
              "    </tr>\n",
              "    <tr>\n",
              "      <th>OBS_30_CNT_SOCIAL_CIRCLE</th>\n",
              "      <td>0.183494</td>\n",
              "      <td>0.042428</td>\n",
              "      <td>0.084013</td>\n",
              "      <td>0.054234</td>\n",
              "      <td>0.128708</td>\n",
              "      <td>0.141196</td>\n",
              "      <td>0.126584</td>\n",
              "      <td>0.120618</td>\n",
              "      <td>-0.201298</td>\n",
              "      <td>-0.098404</td>\n",
              "      <td>-0.112200</td>\n",
              "      <td>-0.157295</td>\n",
              "      <td>0.186331</td>\n",
              "      <td>0.243152</td>\n",
              "      <td>0.243148</td>\n",
              "      <td>0.045215</td>\n",
              "      <td>0.242112</td>\n",
              "      <td>0.031562</td>\n",
              "      <td>0.022942</td>\n",
              "      <td>0.192985</td>\n",
              "      <td>0.228157</td>\n",
              "      <td>0.225862</td>\n",
              "      <td>0.200959</td>\n",
              "      <td>-0.008115</td>\n",
              "      <td>-0.003874</td>\n",
              "      <td>-0.000739</td>\n",
              "      <td>0.019454</td>\n",
              "      <td>0.059099</td>\n",
              "      <td>0.054866</td>\n",
              "      <td>0.225741</td>\n",
              "      <td>0.170950</td>\n",
              "      <td>0.198384</td>\n",
              "      <td>0.143512</td>\n",
              "      <td>0.150493</td>\n",
              "      <td>0.290785</td>\n",
              "      <td>0.310460</td>\n",
              "      <td>0.111976</td>\n",
              "      <td>0.063496</td>\n",
              "      <td>0.184567</td>\n",
              "      <td>0.164311</td>\n",
              "      <td>0.193189</td>\n",
              "      <td>0.144682</td>\n",
              "      <td>0.162419</td>\n",
              "      <td>0.117278</td>\n",
              "      <td>0.041284</td>\n",
              "      <td>0.059453</td>\n",
              "      <td>0.143484</td>\n",
              "      <td>0.149708</td>\n",
              "      <td>0.290511</td>\n",
              "      <td>0.311336</td>\n",
              "      <td>0.112217</td>\n",
              "      <td>0.063385</td>\n",
              "      <td>0.181832</td>\n",
              "      <td>0.164082</td>\n",
              "      <td>0.192400</td>\n",
              "      <td>0.142478</td>\n",
              "      <td>0.163078</td>\n",
              "      <td>0.118519</td>\n",
              "      <td>0.039356</td>\n",
              "      <td>0.059365</td>\n",
              "      <td>0.143409</td>\n",
              "      <td>0.150440</td>\n",
              "      <td>0.290754</td>\n",
              "      <td>0.310696</td>\n",
              "      <td>0.112183</td>\n",
              "      <td>0.063534</td>\n",
              "      <td>0.184104</td>\n",
              "      <td>0.164075</td>\n",
              "      <td>0.192643</td>\n",
              "      <td>0.144911</td>\n",
              "      <td>0.162545</td>\n",
              "      <td>0.117547</td>\n",
              "      <td>0.041136</td>\n",
              "      <td>0.060213</td>\n",
              "      <td>0.111883</td>\n",
              "      <td>1.000000</td>\n",
              "      <td>0.351906</td>\n",
              "      <td>0.998563</td>\n",
              "      <td>0.275920</td>\n",
              "    </tr>\n",
              "    <tr>\n",
              "      <th>DEF_30_CNT_SOCIAL_CIRCLE</th>\n",
              "      <td>0.101849</td>\n",
              "      <td>0.052568</td>\n",
              "      <td>0.039153</td>\n",
              "      <td>0.024376</td>\n",
              "      <td>0.051499</td>\n",
              "      <td>0.065331</td>\n",
              "      <td>0.049458</td>\n",
              "      <td>0.076255</td>\n",
              "      <td>-0.106653</td>\n",
              "      <td>-0.044375</td>\n",
              "      <td>-0.060788</td>\n",
              "      <td>-0.074223</td>\n",
              "      <td>0.104081</td>\n",
              "      <td>0.133364</td>\n",
              "      <td>0.133380</td>\n",
              "      <td>0.026651</td>\n",
              "      <td>0.133119</td>\n",
              "      <td>0.005767</td>\n",
              "      <td>0.012062</td>\n",
              "      <td>0.096717</td>\n",
              "      <td>0.123714</td>\n",
              "      <td>0.122727</td>\n",
              "      <td>0.109620</td>\n",
              "      <td>0.000136</td>\n",
              "      <td>-0.002880</td>\n",
              "      <td>-0.004128</td>\n",
              "      <td>0.027785</td>\n",
              "      <td>0.039519</td>\n",
              "      <td>0.028800</td>\n",
              "      <td>0.117383</td>\n",
              "      <td>0.079456</td>\n",
              "      <td>0.085198</td>\n",
              "      <td>0.076503</td>\n",
              "      <td>0.085180</td>\n",
              "      <td>0.165536</td>\n",
              "      <td>0.179385</td>\n",
              "      <td>0.058316</td>\n",
              "      <td>0.032416</td>\n",
              "      <td>0.103966</td>\n",
              "      <td>0.088357</td>\n",
              "      <td>0.111012</td>\n",
              "      <td>0.075449</td>\n",
              "      <td>0.095553</td>\n",
              "      <td>0.064482</td>\n",
              "      <td>0.028873</td>\n",
              "      <td>0.029747</td>\n",
              "      <td>0.075480</td>\n",
              "      <td>0.084139</td>\n",
              "      <td>0.165470</td>\n",
              "      <td>0.179933</td>\n",
              "      <td>0.057768</td>\n",
              "      <td>0.031351</td>\n",
              "      <td>0.101274</td>\n",
              "      <td>0.087644</td>\n",
              "      <td>0.110273</td>\n",
              "      <td>0.072812</td>\n",
              "      <td>0.094615</td>\n",
              "      <td>0.063859</td>\n",
              "      <td>0.028999</td>\n",
              "      <td>0.029181</td>\n",
              "      <td>0.076217</td>\n",
              "      <td>0.085204</td>\n",
              "      <td>0.165493</td>\n",
              "      <td>0.179526</td>\n",
              "      <td>0.058236</td>\n",
              "      <td>0.032213</td>\n",
              "      <td>0.103704</td>\n",
              "      <td>0.088035</td>\n",
              "      <td>0.110604</td>\n",
              "      <td>0.075069</td>\n",
              "      <td>0.095546</td>\n",
              "      <td>0.064426</td>\n",
              "      <td>0.029102</td>\n",
              "      <td>0.029659</td>\n",
              "      <td>0.060606</td>\n",
              "      <td>0.351906</td>\n",
              "      <td>1.000000</td>\n",
              "      <td>0.354110</td>\n",
              "      <td>0.864352</td>\n",
              "    </tr>\n",
              "    <tr>\n",
              "      <th>OBS_60_CNT_SOCIAL_CIRCLE</th>\n",
              "      <td>0.182933</td>\n",
              "      <td>0.042282</td>\n",
              "      <td>0.083484</td>\n",
              "      <td>0.054129</td>\n",
              "      <td>0.128378</td>\n",
              "      <td>0.140942</td>\n",
              "      <td>0.126231</td>\n",
              "      <td>0.120651</td>\n",
              "      <td>-0.200886</td>\n",
              "      <td>-0.098170</td>\n",
              "      <td>-0.111950</td>\n",
              "      <td>-0.157199</td>\n",
              "      <td>0.185788</td>\n",
              "      <td>0.242439</td>\n",
              "      <td>0.242437</td>\n",
              "      <td>0.044844</td>\n",
              "      <td>0.241409</td>\n",
              "      <td>0.031397</td>\n",
              "      <td>0.023276</td>\n",
              "      <td>0.192254</td>\n",
              "      <td>0.227351</td>\n",
              "      <td>0.225071</td>\n",
              "      <td>0.200439</td>\n",
              "      <td>-0.008120</td>\n",
              "      <td>-0.004047</td>\n",
              "      <td>-0.000902</td>\n",
              "      <td>0.019233</td>\n",
              "      <td>0.058750</td>\n",
              "      <td>0.054593</td>\n",
              "      <td>0.225389</td>\n",
              "      <td>0.170692</td>\n",
              "      <td>0.197585</td>\n",
              "      <td>0.143316</td>\n",
              "      <td>0.150278</td>\n",
              "      <td>0.290030</td>\n",
              "      <td>0.309696</td>\n",
              "      <td>0.111827</td>\n",
              "      <td>0.063508</td>\n",
              "      <td>0.184221</td>\n",
              "      <td>0.163933</td>\n",
              "      <td>0.192865</td>\n",
              "      <td>0.144223</td>\n",
              "      <td>0.162185</td>\n",
              "      <td>0.117133</td>\n",
              "      <td>0.041521</td>\n",
              "      <td>0.059283</td>\n",
              "      <td>0.143269</td>\n",
              "      <td>0.149501</td>\n",
              "      <td>0.289754</td>\n",
              "      <td>0.310580</td>\n",
              "      <td>0.112079</td>\n",
              "      <td>0.063409</td>\n",
              "      <td>0.181495</td>\n",
              "      <td>0.163707</td>\n",
              "      <td>0.192096</td>\n",
              "      <td>0.142030</td>\n",
              "      <td>0.162828</td>\n",
              "      <td>0.118387</td>\n",
              "      <td>0.039583</td>\n",
              "      <td>0.059198</td>\n",
              "      <td>0.143217</td>\n",
              "      <td>0.150219</td>\n",
              "      <td>0.289999</td>\n",
              "      <td>0.309933</td>\n",
              "      <td>0.112031</td>\n",
              "      <td>0.063548</td>\n",
              "      <td>0.183771</td>\n",
              "      <td>0.163700</td>\n",
              "      <td>0.192318</td>\n",
              "      <td>0.144447</td>\n",
              "      <td>0.162319</td>\n",
              "      <td>0.117413</td>\n",
              "      <td>0.041373</td>\n",
              "      <td>0.060039</td>\n",
              "      <td>0.111747</td>\n",
              "      <td>0.998563</td>\n",
              "      <td>0.354110</td>\n",
              "      <td>1.000000</td>\n",
              "      <td>0.277969</td>\n",
              "    </tr>\n",
              "    <tr>\n",
              "      <th>DEF_60_CNT_SOCIAL_CIRCLE</th>\n",
              "      <td>0.088418</td>\n",
              "      <td>0.048633</td>\n",
              "      <td>0.032752</td>\n",
              "      <td>0.019655</td>\n",
              "      <td>0.039887</td>\n",
              "      <td>0.053035</td>\n",
              "      <td>0.038376</td>\n",
              "      <td>0.062546</td>\n",
              "      <td>-0.090545</td>\n",
              "      <td>-0.035634</td>\n",
              "      <td>-0.051351</td>\n",
              "      <td>-0.062106</td>\n",
              "      <td>0.093403</td>\n",
              "      <td>0.115104</td>\n",
              "      <td>0.115118</td>\n",
              "      <td>0.022345</td>\n",
              "      <td>0.115027</td>\n",
              "      <td>0.002192</td>\n",
              "      <td>0.010764</td>\n",
              "      <td>0.081636</td>\n",
              "      <td>0.109176</td>\n",
              "      <td>0.108515</td>\n",
              "      <td>0.092996</td>\n",
              "      <td>-0.000832</td>\n",
              "      <td>-0.004755</td>\n",
              "      <td>-0.005909</td>\n",
              "      <td>0.025765</td>\n",
              "      <td>0.035668</td>\n",
              "      <td>0.024981</td>\n",
              "      <td>0.098612</td>\n",
              "      <td>0.064442</td>\n",
              "      <td>0.071180</td>\n",
              "      <td>0.061786</td>\n",
              "      <td>0.069845</td>\n",
              "      <td>0.142827</td>\n",
              "      <td>0.155289</td>\n",
              "      <td>0.047784</td>\n",
              "      <td>0.024552</td>\n",
              "      <td>0.086631</td>\n",
              "      <td>0.073759</td>\n",
              "      <td>0.095782</td>\n",
              "      <td>0.065738</td>\n",
              "      <td>0.079874</td>\n",
              "      <td>0.051906</td>\n",
              "      <td>0.020387</td>\n",
              "      <td>0.023965</td>\n",
              "      <td>0.060786</td>\n",
              "      <td>0.068946</td>\n",
              "      <td>0.142772</td>\n",
              "      <td>0.155780</td>\n",
              "      <td>0.047370</td>\n",
              "      <td>0.023636</td>\n",
              "      <td>0.084118</td>\n",
              "      <td>0.073154</td>\n",
              "      <td>0.095078</td>\n",
              "      <td>0.063309</td>\n",
              "      <td>0.078998</td>\n",
              "      <td>0.051247</td>\n",
              "      <td>0.020150</td>\n",
              "      <td>0.023392</td>\n",
              "      <td>0.061505</td>\n",
              "      <td>0.069861</td>\n",
              "      <td>0.142780</td>\n",
              "      <td>0.155405</td>\n",
              "      <td>0.047901</td>\n",
              "      <td>0.024499</td>\n",
              "      <td>0.086379</td>\n",
              "      <td>0.073541</td>\n",
              "      <td>0.095481</td>\n",
              "      <td>0.065535</td>\n",
              "      <td>0.079850</td>\n",
              "      <td>0.051977</td>\n",
              "      <td>0.020569</td>\n",
              "      <td>0.023921</td>\n",
              "      <td>0.048787</td>\n",
              "      <td>0.275920</td>\n",
              "      <td>0.864352</td>\n",
              "      <td>0.277969</td>\n",
              "      <td>1.000000</td>\n",
              "    </tr>\n",
              "  </tbody>\n",
              "</table>\n",
              "<p>79 rows × 79 columns</p>\n",
              "</div>"
            ],
            "text/plain": [
              "                          SK_ID_CURR  ...  DEF_60_CNT_SOCIAL_CIRCLE\n",
              "SK_ID_CURR                  1.000000  ...                  0.088418\n",
              "TARGET                      0.096772  ...                  0.048633\n",
              "CNT_CHILDREN                0.200754  ...                  0.032752\n",
              "AMT_INCOME_TOTAL            0.207443  ...                  0.019655\n",
              "AMT_CREDIT                  0.405302  ...                  0.039887\n",
              "...                              ...  ...                       ...\n",
              "TOTALAREA_MODE              0.381729  ...                  0.048787\n",
              "OBS_30_CNT_SOCIAL_CIRCLE    0.183494  ...                  0.275920\n",
              "DEF_30_CNT_SOCIAL_CIRCLE    0.101849  ...                  0.864352\n",
              "OBS_60_CNT_SOCIAL_CIRCLE    0.182933  ...                  0.277969\n",
              "DEF_60_CNT_SOCIAL_CIRCLE    0.088418  ...                  1.000000\n",
              "\n",
              "[79 rows x 79 columns]"
            ]
          },
          "metadata": {
            "tags": []
          },
          "execution_count": 74
        }
      ]
    },
    {
      "cell_type": "markdown",
      "metadata": {
        "id": "awTT27qm6RrH",
        "colab_type": "text"
      },
      "source": [
        "This is not visualisable because there are too many columns. We calculate correlation with target and print them. And for other attributes, we print pairwise correlation if it is greater than a certain threshold."
      ]
    },
    {
      "cell_type": "code",
      "metadata": {
        "id": "9zOXtLx68Eir",
        "colab_type": "code",
        "colab": {}
      },
      "source": [
        "# Correlation of each variable with TARGET\n",
        "corr_series = df.corrwith(df['TARGET'])"
      ],
      "execution_count": 0,
      "outputs": []
    },
    {
      "cell_type": "code",
      "metadata": {
        "id": "WA0Y8zRT6svg",
        "colab_type": "code",
        "outputId": "4a8c2128-5385-47b0-a132-453256f079cb",
        "colab": {
          "base_uri": "https://localhost:8080/",
          "height": 617
        }
      },
      "source": [
        "# print positive correlations in descending order\n",
        "pos_corr = corr_series[corr_series>=0]\n",
        "pos_corr.sort_values(ascending=False)"
      ],
      "execution_count": 0,
      "outputs": [
        {
          "output_type": "execute_result",
          "data": {
            "text/plain": [
              "TARGET                         1.000000\n",
              "DAYS_BIRTH                     0.078239\n",
              "REGION_RATING_CLIENT_W_CITY    0.060893\n",
              "REGION_RATING_CLIENT           0.058899\n",
              "DAYS_LAST_PHONE_CHANGE         0.055218\n",
              "DAYS_ID_PUBLISH                0.051457\n",
              "REG_CITY_NOT_WORK_CITY         0.050994\n",
              "FLAG_EMP_PHONE                 0.045982\n",
              "REG_CITY_NOT_LIVE_CITY         0.044395\n",
              "FLAG_DOCUMENT_3                0.044346\n",
              "DAYS_REGISTRATION              0.041975\n",
              "OWN_CAR_AGE                    0.037612\n",
              "LIVE_CITY_NOT_WORK_CITY        0.032518\n",
              "DEF_30_CNT_SOCIAL_CIRCLE       0.032248\n",
              "DEF_60_CNT_SOCIAL_CIRCLE       0.031276\n",
              "FLAG_WORK_PHONE                0.028524\n",
              "AMT_REQ_CREDIT_BUREAU_YEAR     0.019930\n",
              "CNT_CHILDREN                   0.019187\n",
              "CNT_FAM_MEMBERS                0.009308\n",
              "OBS_30_CNT_SOCIAL_CIRCLE       0.009131\n",
              "OBS_60_CNT_SOCIAL_CIRCLE       0.009022\n",
              "REG_REGION_NOT_WORK_REGION     0.006942\n",
              "REG_REGION_NOT_LIVE_REGION     0.005576\n",
              "FLAG_DOCUMENT_2                0.005417\n",
              "FLAG_DOCUMENT_21               0.003709\n",
              "LIVE_REGION_NOT_WORK_REGION    0.002819\n",
              "AMT_REQ_CREDIT_BUREAU_DAY      0.002704\n",
              "AMT_REQ_CREDIT_BUREAU_HOUR     0.000930\n",
              "AMT_REQ_CREDIT_BUREAU_WEEK     0.000788\n",
              "FLAG_MOBIL                     0.000534\n",
              "FLAG_CONT_MOBILE               0.000370\n",
              "FLAG_DOCUMENT_20               0.000215\n",
              "dtype: float64"
            ]
          },
          "metadata": {
            "tags": []
          },
          "execution_count": 22
        }
      ]
    },
    {
      "cell_type": "code",
      "metadata": {
        "id": "Wb4C_bAa8UKK",
        "colab_type": "code",
        "outputId": "864948dd-7264-44f6-f63f-9db4074060d0",
        "colab": {
          "base_uri": "https://localhost:8080/",
          "height": 1000
        }
      },
      "source": [
        "# print negative correlations in ascending order (order of higher negative correlation)\n",
        "pos_corr = corr_series[corr_series<0]\n",
        "with pd.option_context('display.max_rows', None, 'display.max_columns', None):\n",
        "  print(pos_corr.sort_values(ascending=True))"
      ],
      "execution_count": 0,
      "outputs": [
        {
          "output_type": "stream",
          "text": [
            "EXT_SOURCE_3                   -0.178919\n",
            "EXT_SOURCE_2                   -0.160472\n",
            "EXT_SOURCE_1                   -0.155317\n",
            "DAYS_EMPLOYED                  -0.044932\n",
            "FLOORSMAX_AVG                  -0.044003\n",
            "FLOORSMAX_MEDI                 -0.043768\n",
            "FLOORSMAX_MODE                 -0.043226\n",
            "AMT_GOODS_PRICE                -0.039645\n",
            "REGION_POPULATION_RELATIVE     -0.037227\n",
            "ELEVATORS_AVG                  -0.034199\n",
            "ELEVATORS_MEDI                 -0.033863\n",
            "FLOORSMIN_AVG                  -0.033614\n",
            "FLOORSMIN_MEDI                 -0.033394\n",
            "LIVINGAREA_AVG                 -0.032997\n",
            "LIVINGAREA_MEDI                -0.032739\n",
            "FLOORSMIN_MODE                 -0.032698\n",
            "TOTALAREA_MODE                 -0.032596\n",
            "ELEVATORS_MODE                 -0.032131\n",
            "LIVINGAREA_MODE                -0.030685\n",
            "AMT_CREDIT                     -0.030369\n",
            "APARTMENTS_AVG                 -0.029498\n",
            "APARTMENTS_MEDI                -0.029184\n",
            "FLAG_DOCUMENT_6                -0.028602\n",
            "APARTMENTS_MODE                -0.027284\n",
            "LIVINGAPARTMENTS_AVG           -0.025031\n",
            "LIVINGAPARTMENTS_MEDI          -0.024621\n",
            "HOUR_APPR_PROCESS_START        -0.024166\n",
            "FLAG_PHONE                     -0.023806\n",
            "LIVINGAPARTMENTS_MODE          -0.023393\n",
            "BASEMENTAREA_AVG               -0.022746\n",
            "YEARS_BUILD_MEDI               -0.022326\n",
            "YEARS_BUILD_AVG                -0.022149\n",
            "BASEMENTAREA_MEDI              -0.022081\n",
            "YEARS_BUILD_MODE               -0.022068\n",
            "BASEMENTAREA_MODE              -0.019952\n",
            "ENTRANCES_AVG                  -0.019172\n",
            "ENTRANCES_MEDI                 -0.019025\n",
            "COMMONAREA_MEDI                -0.018573\n",
            "COMMONAREA_AVG                 -0.018550\n",
            "ENTRANCES_MODE                 -0.017387\n",
            "COMMONAREA_MODE                -0.016340\n",
            "NONLIVINGAREA_AVG              -0.013578\n",
            "NONLIVINGAREA_MEDI             -0.013337\n",
            "AMT_ANNUITY                    -0.012817\n",
            "NONLIVINGAREA_MODE             -0.012711\n",
            "AMT_REQ_CREDIT_BUREAU_MON      -0.012462\n",
            "FLAG_DOCUMENT_16               -0.011615\n",
            "FLAG_DOCUMENT_13               -0.011583\n",
            "LANDAREA_MEDI                  -0.011256\n",
            "LANDAREA_AVG                   -0.010885\n",
            "LANDAREA_MODE                  -0.010174\n",
            "YEARS_BEGINEXPLUATATION_MEDI   -0.009993\n",
            "YEARS_BEGINEXPLUATATION_AVG    -0.009728\n",
            "FLAG_DOCUMENT_14               -0.009464\n",
            "YEARS_BEGINEXPLUATATION_MODE   -0.009036\n",
            "FLAG_DOCUMENT_8                -0.008040\n",
            "FLAG_DOCUMENT_18               -0.007952\n",
            "FLAG_DOCUMENT_15               -0.006536\n",
            "FLAG_DOCUMENT_9                -0.004352\n",
            "FLAG_DOCUMENT_11               -0.004229\n",
            "AMT_INCOME_TOTAL               -0.003982\n",
            "FLAG_DOCUMENT_17               -0.003378\n",
            "NONLIVINGAPARTMENTS_AVG        -0.003176\n",
            "NONLIVINGAPARTMENTS_MEDI       -0.002757\n",
            "FLAG_DOCUMENT_4                -0.002672\n",
            "SK_ID_CURR                     -0.002108\n",
            "AMT_REQ_CREDIT_BUREAU_QRT      -0.002022\n",
            "FLAG_EMAIL                     -0.001758\n",
            "NONLIVINGAPARTMENTS_MODE       -0.001557\n",
            "FLAG_DOCUMENT_7                -0.001520\n",
            "FLAG_DOCUMENT_10               -0.001414\n",
            "FLAG_DOCUMENT_19               -0.001358\n",
            "FLAG_DOCUMENT_12               -0.000756\n",
            "FLAG_DOCUMENT_5                -0.000316\n",
            "dtype: float64\n"
          ],
          "name": "stdout"
        }
      ]
    },
    {
      "cell_type": "markdown",
      "metadata": {
        "id": "_2TXJ7fc_HU3",
        "colab_type": "text"
      },
      "source": [
        "This analysis excludes non-numeric attributes. We first get all non-numeric categorical attributes from the data"
      ]
    },
    {
      "cell_type": "code",
      "metadata": {
        "id": "rVtvH-8a9-jH",
        "colab_type": "code",
        "outputId": "b11bc936-5c60-4f9e-bf73-47fd48f9025f",
        "colab": {
          "base_uri": "https://localhost:8080/",
          "height": 308
        }
      },
      "source": [
        "# all columns\n",
        "cols = df.columns\n",
        "# numeric columns\n",
        "num_cols = df._get_numeric_data().columns\n",
        "# exclude numeric columns to get all non-numeric ones\n",
        "non_num_col = list(set(cols) - set(num_cols))\n",
        "non_num_col"
      ],
      "execution_count": 0,
      "outputs": [
        {
          "output_type": "execute_result",
          "data": {
            "text/plain": [
              "['FLAG_OWN_REALTY',\n",
              " 'NAME_HOUSING_TYPE',\n",
              " 'NAME_TYPE_SUITE',\n",
              " 'NAME_EDUCATION_TYPE',\n",
              " 'OCCUPATION_TYPE',\n",
              " 'HOUSETYPE_MODE',\n",
              " 'ORGANIZATION_TYPE',\n",
              " 'FONDKAPREMONT_MODE',\n",
              " 'WALLSMATERIAL_MODE',\n",
              " 'NAME_CONTRACT_TYPE',\n",
              " 'EMERGENCYSTATE_MODE',\n",
              " 'NAME_INCOME_TYPE',\n",
              " 'WEEKDAY_APPR_PROCESS_START',\n",
              " 'NAME_FAMILY_STATUS',\n",
              " 'FLAG_OWN_CAR',\n",
              " 'CODE_GENDER']"
            ]
          },
          "metadata": {
            "tags": []
          },
          "execution_count": 35
        }
      ]
    },
    {
      "cell_type": "markdown",
      "metadata": {
        "id": "NxNS9hShAnPv",
        "colab_type": "text"
      },
      "source": [
        "#### Analysis of categorical variables with respect to TARGET"
      ]
    },
    {
      "cell_type": "code",
      "metadata": {
        "colab_type": "code",
        "id": "4OdrhDQX4YWv",
        "colab": {}
      },
      "source": [
        "def get_ratio_of_positive_labels(df, attribute):\n",
        "  \"\"\"\n",
        "  This function takes a dataframe and attribute and\n",
        "  calculates the ratio of high-risk TARGET assignments (1)\n",
        "  to the attribute\n",
        "  \"\"\"\n",
        "  a = df.loc[df['TARGET']==1, attribute].value_counts()\n",
        "  b = df.loc[df['TARGET']==0, attribute].value_counts()\n",
        "  return a.divide(a.add(b))"
      ],
      "execution_count": 0,
      "outputs": []
    },
    {
      "cell_type": "code",
      "metadata": {
        "colab_type": "code",
        "id": "5fYsuW9k6Ooz",
        "outputId": "019d8e12-e5db-474b-ebaa-02583f7925ca",
        "colab": {
          "base_uri": "https://localhost:8080/",
          "height": 90
        }
      },
      "source": [
        "get_ratio_of_positive_labels(df, 'CODE_GENDER')"
      ],
      "execution_count": 0,
      "outputs": [
        {
          "output_type": "execute_result",
          "data": {
            "text/plain": [
              "F      0.069993\n",
              "M      0.101419\n",
              "XNA         NaN\n",
              "Name: CODE_GENDER, dtype: float64"
            ]
          },
          "metadata": {
            "tags": []
          },
          "execution_count": 37
        }
      ]
    },
    {
      "cell_type": "code",
      "metadata": {
        "colab_type": "code",
        "id": "1-N03uoh6XjI",
        "outputId": "6e5acc93-fe82-4b62-af14-189b72ce5e90",
        "colab": {
          "base_uri": "https://localhost:8080/",
          "height": 363
        }
      },
      "source": [
        "get_ratio_of_positive_labels(df, 'OCCUPATION_TYPE')"
      ],
      "execution_count": 0,
      "outputs": [
        {
          "output_type": "execute_result",
          "data": {
            "text/plain": [
              "Accountants              0.048303\n",
              "Cleaning staff           0.096067\n",
              "Cooking staff            0.104440\n",
              "Core staff               0.063040\n",
              "Drivers                  0.113261\n",
              "HR staff                 0.063943\n",
              "High skill tech staff    0.061599\n",
              "IT staff                 0.064639\n",
              "Laborers                 0.105788\n",
              "Low-skill Laborers       0.171524\n",
              "Managers                 0.062140\n",
              "Medicine staff           0.067002\n",
              "Private service staff    0.065988\n",
              "Realty agents            0.078562\n",
              "Sales staff              0.096318\n",
              "Secretaries              0.070498\n",
              "Security staff           0.107424\n",
              "Waiters/barmen staff     0.112760\n",
              "Name: OCCUPATION_TYPE, dtype: float64"
            ]
          },
          "metadata": {
            "tags": []
          },
          "execution_count": 38
        }
      ]
    },
    {
      "cell_type": "code",
      "metadata": {
        "colab_type": "code",
        "id": "ZQCM4GSC6kwe",
        "outputId": "90289498-ecdd-444b-8566-5e6f3893828c",
        "colab": {
          "base_uri": "https://localhost:8080/",
          "height": 126
        }
      },
      "source": [
        "get_ratio_of_positive_labels(df, 'NAME_EDUCATION_TYPE')"
      ],
      "execution_count": 0,
      "outputs": [
        {
          "output_type": "execute_result",
          "data": {
            "text/plain": [
              "Secondary / secondary special    0.089399\n",
              "Higher education                 0.053551\n",
              "Incomplete higher                0.084850\n",
              "Lower secondary                  0.109277\n",
              "Academic degree                  0.018293\n",
              "Name: NAME_EDUCATION_TYPE, dtype: float64"
            ]
          },
          "metadata": {
            "tags": []
          },
          "execution_count": 25
        }
      ]
    },
    {
      "cell_type": "code",
      "metadata": {
        "colab_type": "code",
        "id": "d3KcxSwp6y_-",
        "outputId": "2ff20489-baf4-4404-d271-8d7b65cd42bf",
        "colab": {
          "base_uri": "https://localhost:8080/",
          "height": 145
        }
      },
      "source": [
        "get_ratio_of_positive_labels(df, 'NAME_HOUSING_TYPE')"
      ],
      "execution_count": 0,
      "outputs": [
        {
          "output_type": "execute_result",
          "data": {
            "text/plain": [
              "House / apartment      0.077957\n",
              "With parents           0.116981\n",
              "Municipal apartment    0.085397\n",
              "Rented apartment       0.123131\n",
              "Office apartment       0.065724\n",
              "Co-op apartment        0.079323\n",
              "Name: NAME_HOUSING_TYPE, dtype: float64"
            ]
          },
          "metadata": {
            "tags": []
          },
          "execution_count": 26
        }
      ]
    },
    {
      "cell_type": "code",
      "metadata": {
        "colab_type": "code",
        "id": "D02EpB3IiBh1",
        "outputId": "1747760b-0053-44e9-c301-7043d7da5b37",
        "colab": {
          "base_uri": "https://localhost:8080/",
          "height": 181
        }
      },
      "source": [
        "get_ratio_of_positive_labels(df, 'NAME_INCOME_TYPE')"
      ],
      "execution_count": 0,
      "outputs": [
        {
          "output_type": "execute_result",
          "data": {
            "text/plain": [
              "Businessman                  NaN\n",
              "Commercial associate    0.074843\n",
              "Maternity leave         0.400000\n",
              "Pensioner               0.053864\n",
              "State servant           0.057550\n",
              "Student                      NaN\n",
              "Unemployed              0.363636\n",
              "Working                 0.095885\n",
              "Name: NAME_INCOME_TYPE, dtype: float64"
            ]
          },
          "metadata": {
            "tags": []
          },
          "execution_count": 27
        }
      ]
    },
    {
      "cell_type": "code",
      "metadata": {
        "id": "jrxKpS-ICFuf",
        "colab_type": "code",
        "outputId": "c2e957f3-668e-4d59-f71c-6d3947811b57",
        "colab": {
          "base_uri": "https://localhost:8080/",
          "height": 145
        }
      },
      "source": [
        "get_ratio_of_positive_labels(df, 'NAME_FAMILY_STATUS')"
      ],
      "execution_count": 0,
      "outputs": [
        {
          "output_type": "execute_result",
          "data": {
            "text/plain": [
              "Civil marriage          0.099446\n",
              "Married                 0.075599\n",
              "Separated               0.081942\n",
              "Single / not married    0.098077\n",
              "Unknown                      NaN\n",
              "Widow                   0.058242\n",
              "Name: NAME_FAMILY_STATUS, dtype: float64"
            ]
          },
          "metadata": {
            "tags": []
          },
          "execution_count": 40
        }
      ]
    },
    {
      "cell_type": "code",
      "metadata": {
        "id": "9S_u2cmH_55u",
        "colab_type": "code",
        "outputId": "eaacc3bf-576e-4400-d8b4-97d2ca91379f",
        "colab": {
          "base_uri": "https://localhost:8080/",
          "height": 72
        }
      },
      "source": [
        "get_ratio_of_positive_labels(df, 'FLAG_OWN_REALTY')"
      ],
      "execution_count": 0,
      "outputs": [
        {
          "output_type": "execute_result",
          "data": {
            "text/plain": [
              "Y    0.079616\n",
              "N    0.083249\n",
              "Name: FLAG_OWN_REALTY, dtype: float64"
            ]
          },
          "metadata": {
            "tags": []
          },
          "execution_count": 39
        }
      ]
    },
    {
      "cell_type": "code",
      "metadata": {
        "colab_type": "code",
        "id": "BZpT-0HR9KG3",
        "colab": {}
      },
      "source": [
        "# Binning age for analysis\n",
        "\n",
        "df['DAYS_BIRTH_POS'] = df['DAYS_BIRTH'].abs()\n",
        "#df['DAYS_BIRTH_POS'].describe()\n",
        "bin_list = np.arange(df['DAYS_BIRTH_POS'].min(), df['DAYS_BIRTH_POS'].max()+10, 1825)\n",
        "df['AGE_BIN'] = pd.cut(x=df['DAYS_BIRTH_POS'], bins=bin_list, labels=np.arange(20, 65, 5))"
      ],
      "execution_count": 0,
      "outputs": []
    },
    {
      "cell_type": "code",
      "metadata": {
        "colab_type": "code",
        "id": "mOc4YRGt_kxo",
        "outputId": "c155e5ba-666d-416a-f26f-01cfbc45e525",
        "colab": {
          "base_uri": "https://localhost:8080/",
          "height": 199
        }
      },
      "source": [
        "get_ratio_of_positive_labels(df, 'AGE_BIN')"
      ],
      "execution_count": 0,
      "outputs": [
        {
          "output_type": "execute_result",
          "data": {
            "text/plain": [
              "20    0.121161\n",
              "25    0.111546\n",
              "30    0.100822\n",
              "35    0.088501\n",
              "40    0.077414\n",
              "45    0.073847\n",
              "50    0.065717\n",
              "55    0.054664\n",
              "60    0.052792\n",
              "Name: AGE_BIN, dtype: float64"
            ]
          },
          "metadata": {
            "tags": []
          },
          "execution_count": 45
        }
      ]
    },
    {
      "cell_type": "code",
      "metadata": {
        "colab_type": "code",
        "id": "45xGOShU_x_4",
        "colab": {}
      },
      "source": [
        "# Binning duration of employment for analysis --> also detect non-negative values for removal\n",
        "\n",
        "df['DAYS_EMPLOYED_POS'] = df['DAYS_EMPLOYED']\n",
        "df.DAYS_EMPLOYED_POS = np.where(df.DAYS_EMPLOYED_POS > 0, 0, df.DAYS_EMPLOYED_POS)\n",
        "df['DAYS_EMPLOYED_POS'] = df['DAYS_EMPLOYED_POS'].abs()\n",
        "bin_list = np.arange(df['DAYS_EMPLOYED_POS'].min(), df['DAYS_EMPLOYED_POS'].max()+10, 1825)\n",
        "df['EMPLOYMENT_DURATION_BIN'] = pd.cut(x=df['DAYS_EMPLOYED_POS'], bins=bin_list, labels=np.arange(20, 65, 5))"
      ],
      "execution_count": 0,
      "outputs": []
    },
    {
      "cell_type": "code",
      "metadata": {
        "colab_type": "code",
        "id": "lrnHZ3OJBOYp",
        "outputId": "f4c9e687-b248-4ddf-e6ad-3d6358e766d1",
        "colab": {
          "base_uri": "https://localhost:8080/",
          "height": 199
        }
      },
      "source": [
        "get_ratio_of_positive_labels(df, 'EMPLOYMENT_DURATION_BIN')"
      ],
      "execution_count": 0,
      "outputs": [
        {
          "output_type": "execute_result",
          "data": {
            "text/plain": [
              "20    0.105708\n",
              "25    0.073714\n",
              "30    0.057752\n",
              "35    0.048484\n",
              "40    0.047573\n",
              "45    0.039903\n",
              "50    0.041258\n",
              "55    0.019231\n",
              "60    0.004762\n",
              "Name: EMPLOYMENT_DURATION_BIN, dtype: float64"
            ]
          },
          "metadata": {
            "tags": []
          },
          "execution_count": 59
        }
      ]
    },
    {
      "cell_type": "code",
      "metadata": {
        "colab_type": "code",
        "id": "5IBtizTwDT3n",
        "outputId": "da44b6de-2f3b-4b1c-e6c3-ace491203715",
        "colab": {
          "base_uri": "https://localhost:8080/",
          "height": 108
        }
      },
      "source": [
        "get_ratio_of_positive_labels(df, 'REGION_RATING_CLIENT')"
      ],
      "execution_count": 0,
      "outputs": [
        {
          "output_type": "execute_result",
          "data": {
            "text/plain": [
              "0         NaN\n",
              "1    0.049921\n",
              "2    0.084809\n",
              "3    0.121212\n",
              "Name: REGION_RATING_CLIENT, dtype: float64"
            ]
          },
          "metadata": {
            "tags": []
          },
          "execution_count": 61
        }
      ]
    },
    {
      "cell_type": "code",
      "metadata": {
        "colab_type": "code",
        "id": "5j5qlHEHE-_l",
        "outputId": "bc78e100-af47-4f35-84b4-83d8236c8e23",
        "colab": {
          "base_uri": "https://localhost:8080/",
          "height": 108
        }
      },
      "source": [
        "get_ratio_of_positive_labels(df, 'REGION_RATING_CLIENT_W_CITY')"
      ],
      "execution_count": 0,
      "outputs": [
        {
          "output_type": "execute_result",
          "data": {
            "text/plain": [
              "0         NaN\n",
              "1    0.050070\n",
              "2    0.085157\n",
              "3    0.124696\n",
              "Name: REGION_RATING_CLIENT_W_CITY, dtype: float64"
            ]
          },
          "metadata": {
            "tags": []
          },
          "execution_count": 62
        }
      ]
    },
    {
      "cell_type": "code",
      "metadata": {
        "colab_type": "code",
        "id": "51FFpuYMFybK",
        "outputId": "ca26b114-e04b-4bcf-c599-71fe758e81bf",
        "colab": {
          "base_uri": "https://localhost:8080/",
          "height": 308
        }
      },
      "source": [
        "get_ratio_of_positive_labels(df, 'CNT_CHILDREN')"
      ],
      "execution_count": 0,
      "outputs": [
        {
          "output_type": "execute_result",
          "data": {
            "text/plain": [
              "0     0.063382\n",
              "1     0.089567\n",
              "2     0.087047\n",
              "3     0.096996\n",
              "4     0.130435\n",
              "5     0.074074\n",
              "6     0.315789\n",
              "7          NaN\n",
              "8          NaN\n",
              "9          inf\n",
              "10         NaN\n",
              "11         inf\n",
              "12         NaN\n",
              "14         NaN\n",
              "19         NaN\n",
              "Name: CNT_CHILDREN, dtype: float64"
            ]
          },
          "metadata": {
            "tags": []
          },
          "execution_count": 65
        }
      ]
    },
    {
      "cell_type": "code",
      "metadata": {
        "colab_type": "code",
        "id": "FdpWsmrfFJ4N",
        "outputId": "a3997785-38fd-426c-b05e-ee22d3c41d1e",
        "colab": {
          "base_uri": "https://localhost:8080/",
          "height": 617
        }
      },
      "source": [
        "get_ratio_of_positive_labels(df, 'OBS_30_CNT_SOCIAL_CIRCLE')"
      ],
      "execution_count": 0,
      "outputs": [
        {
          "output_type": "execute_result",
          "data": {
            "text/plain": [
              "0.0      0.059800\n",
              "1.0      0.086062\n",
              "2.0      0.088689\n",
              "3.0      0.087872\n",
              "4.0      0.093798\n",
              "5.0      0.087708\n",
              "6.0      0.095877\n",
              "7.0      0.103903\n",
              "8.0      0.089330\n",
              "9.0      0.099138\n",
              "10.0     0.097403\n",
              "11.0     0.100437\n",
              "12.0     0.105660\n",
              "13.0     0.127329\n",
              "14.0     0.110048\n",
              "15.0     0.074074\n",
              "16.0     0.090000\n",
              "17.0     0.069444\n",
              "18.0     0.027778\n",
              "19.0     0.081081\n",
              "20.0     0.125000\n",
              "21.0          NaN\n",
              "22.0     0.166667\n",
              "23.0     0.166667\n",
              "24.0          NaN\n",
              "25.0     0.142857\n",
              "26.0          NaN\n",
              "27.0          NaN\n",
              "29.0          NaN\n",
              "30.0     0.500000\n",
              "47.0          NaN\n",
              "348.0         NaN\n",
              "Name: OBS_30_CNT_SOCIAL_CIRCLE, dtype: float64"
            ]
          },
          "metadata": {
            "tags": []
          },
          "execution_count": 64
        }
      ]
    },
    {
      "cell_type": "markdown",
      "metadata": {
        "id": "o387gXrgCWE3",
        "colab_type": "text"
      },
      "source": [
        "### For similar income range and credit range, is there bias among groups?"
      ]
    },
    {
      "cell_type": "code",
      "metadata": {
        "colab_type": "code",
        "id": "PCmuNK7DP9Rk",
        "outputId": "f0420daa-b54a-4bbc-bb51-5d41e3b82d72",
        "colab": {
          "base_uri": "https://localhost:8080/",
          "height": 276
        }
      },
      "source": [
        "# Plot boxplot of total income\n",
        "fig = plt.figure(1, figsize=(6, 4))\n",
        "ax = fig.add_subplot(111)\n",
        "bp = ax.boxplot([df['AMT_INCOME_TOTAL']], labels=['total income'])\n",
        "plt.show()\n",
        "# Conclusion: Use median for analysis"
      ],
      "execution_count": 0,
      "outputs": [
        {
          "output_type": "display_data",
          "data": {
            "image/png": "[encoded data removed]",
            "text/plain": [
              "<Figure size 432x288 with 1 Axes>"
            ]
          },
          "metadata": {
            "tags": []
          }
        }
      ]
    },
    {
      "cell_type": "code",
      "metadata": {
        "colab_type": "code",
        "id": "TjYhObw-RCGO",
        "outputId": "54ddbf14-f70b-4f5a-c4a3-94ff2914f1c0",
        "colab": {
          "base_uri": "https://localhost:8080/",
          "height": 276
        }
      },
      "source": [
        "# Plot boxplot of total credit\n",
        "fig = plt.figure(1, figsize=(6, 4))\n",
        "ax = fig.add_subplot(111)\n",
        "bp = ax.boxplot([df['AMT_CREDIT']], labels=['total credit'])\n",
        "plt.show()\n",
        "# Conclusion: use median for analysis"
      ],
      "execution_count": 0,
      "outputs": [
        {
          "output_type": "display_data",
          "data": {
            "image/png": "[encoded data removed]",
            "text/plain": [
              "<Figure size 432x288 with 1 Axes>"
            ]
          },
          "metadata": {
            "tags": []
          }
        }
      ]
    },
    {
      "cell_type": "code",
      "metadata": {
        "colab_type": "code",
        "id": "KmojvGt2HlA8",
        "outputId": "43b6126a-ed11-4ae4-8300-ae656e2e1b1d",
        "colab": {
          "base_uri": "https://localhost:8080/",
          "height": 288
        }
      },
      "source": [
        "# get stats for income and credit\n",
        "df[['AMT_INCOME_TOTAL', 'AMT_CREDIT']].describe()"
      ],
      "execution_count": 0,
      "outputs": [
        {
          "output_type": "execute_result",
          "data": {
            "text/html": [
              "<div>\n",
              "<style scoped>\n",
              "    .dataframe tbody tr th:only-of-type {\n",
              "        vertical-align: middle;\n",
              "    }\n",
              "\n",
              "    .dataframe tbody tr th {\n",
              "        vertical-align: top;\n",
              "    }\n",
              "\n",
              "    .dataframe thead th {\n",
              "        text-align: right;\n",
              "    }\n",
              "</style>\n",
              "<table border=\"1\" class=\"dataframe\">\n",
              "  <thead>\n",
              "    <tr style=\"text-align: right;\">\n",
              "      <th></th>\n",
              "      <th>AMT_INCOME_TOTAL</th>\n",
              "      <th>AMT_CREDIT</th>\n",
              "    </tr>\n",
              "  </thead>\n",
              "  <tbody>\n",
              "    <tr>\n",
              "      <th>count</th>\n",
              "      <td>3.075110e+05</td>\n",
              "      <td>3.075110e+05</td>\n",
              "    </tr>\n",
              "    <tr>\n",
              "      <th>mean</th>\n",
              "      <td>1.687979e+05</td>\n",
              "      <td>5.990260e+05</td>\n",
              "    </tr>\n",
              "    <tr>\n",
              "      <th>std</th>\n",
              "      <td>2.371231e+05</td>\n",
              "      <td>4.024908e+05</td>\n",
              "    </tr>\n",
              "    <tr>\n",
              "      <th>min</th>\n",
              "      <td>2.565000e+04</td>\n",
              "      <td>4.500000e+04</td>\n",
              "    </tr>\n",
              "    <tr>\n",
              "      <th>25%</th>\n",
              "      <td>1.125000e+05</td>\n",
              "      <td>2.700000e+05</td>\n",
              "    </tr>\n",
              "    <tr>\n",
              "      <th>50%</th>\n",
              "      <td>1.471500e+05</td>\n",
              "      <td>5.135310e+05</td>\n",
              "    </tr>\n",
              "    <tr>\n",
              "      <th>75%</th>\n",
              "      <td>2.025000e+05</td>\n",
              "      <td>8.086500e+05</td>\n",
              "    </tr>\n",
              "    <tr>\n",
              "      <th>max</th>\n",
              "      <td>1.170000e+08</td>\n",
              "      <td>4.050000e+06</td>\n",
              "    </tr>\n",
              "  </tbody>\n",
              "</table>\n",
              "</div>"
            ],
            "text/plain": [
              "       AMT_INCOME_TOTAL    AMT_CREDIT\n",
              "count      3.075110e+05  3.075110e+05\n",
              "mean       1.687979e+05  5.990260e+05\n",
              "std        2.371231e+05  4.024908e+05\n",
              "min        2.565000e+04  4.500000e+04\n",
              "25%        1.125000e+05  2.700000e+05\n",
              "50%        1.471500e+05  5.135310e+05\n",
              "75%        2.025000e+05  8.086500e+05\n",
              "max        1.170000e+08  4.050000e+06"
            ]
          },
          "metadata": {
            "tags": []
          },
          "execution_count": 44
        }
      ]
    },
    {
      "cell_type": "code",
      "metadata": {
        "colab_type": "code",
        "id": "dPjyYnBeHlOO",
        "outputId": "b4b82ea7-336c-4188-906e-ef724720fb65",
        "colab": {
          "base_uri": "https://localhost:8080/",
          "height": 672
        }
      },
      "source": [
        "# Find cases where people above 25% quartile income are marked risk for credit below 25% quartile\n",
        "\n",
        "df_filtered = df[(df.AMT_INCOME_TOTAL >= 85500) & (df.AMT_CREDIT <= 180000) & (df.TARGET==1)]\n",
        "print(df_filtered['CODE_GENDER'].value_counts())\n",
        "print(df_filtered['AGE_BIN'].value_counts())\n",
        "print(df_filtered['OCCUPATION_TYPE'].value_counts())\n",
        "print(df_filtered['NAME_EDUCATION_TYPE'].value_counts())"
      ],
      "execution_count": 0,
      "outputs": [
        {
          "output_type": "stream",
          "text": [
            "F    764\n",
            "M    715\n",
            "Name: CODE_GENDER, dtype: int64\n",
            "25    313\n",
            "20    280\n",
            "30    277\n",
            "35    201\n",
            "40    152\n",
            "45    130\n",
            "50     78\n",
            "55     37\n",
            "60      9\n",
            "Name: AGE_BIN, dtype: int64\n",
            "Laborers                 419\n",
            "Sales staff              215\n",
            "Drivers                  132\n",
            "Core staff               119\n",
            "Managers                  62\n",
            "High skill tech staff     58\n",
            "Security staff            53\n",
            "Cooking staff             48\n",
            "Low-skill Laborers        35\n",
            "Medicine staff            29\n",
            "Cleaning staff            28\n",
            "Accountants               21\n",
            "Private service staff     13\n",
            "Waiters/barmen staff       7\n",
            "Secretaries                6\n",
            "HR staff                   3\n",
            "Realty agents              3\n",
            "Name: OCCUPATION_TYPE, dtype: int64\n",
            "Secondary / secondary special    1167\n",
            "Higher education                  225\n",
            "Incomplete higher                  71\n",
            "Lower secondary                    16\n",
            "Name: NAME_EDUCATION_TYPE, dtype: int64\n"
          ],
          "name": "stdout"
        }
      ]
    },
    {
      "cell_type": "code",
      "metadata": {
        "colab_type": "code",
        "id": "8-io_BQFHlM4",
        "outputId": "e3b34c55-c85c-4101-b43c-e875ae7e1b9e",
        "colab": {
          "base_uri": "https://localhost:8080/",
          "height": 672
        }
      },
      "source": [
        "# Find cases where people above median income are marked risk for credit below 25% quartile\n",
        "\n",
        "df_filtered = df[(df.AMT_INCOME_TOTAL >= 135000) & (df.AMT_CREDIT <= 180000) & (df.TARGET==1)]\n",
        "print(df_filtered['CODE_GENDER'].value_counts())\n",
        "print(df_filtered['AGE_BIN'].value_counts())\n",
        "print(df_filtered['OCCUPATION_TYPE'].value_counts())\n",
        "print(df_filtered['NAME_EDUCATION_TYPE'].value_counts())"
      ],
      "execution_count": 0,
      "outputs": [
        {
          "output_type": "stream",
          "text": [
            "M    407\n",
            "F    317\n",
            "Name: CODE_GENDER, dtype: int64\n",
            "30    143\n",
            "25    143\n",
            "20    124\n",
            "35    107\n",
            "40     74\n",
            "45     73\n",
            "50     34\n",
            "55     19\n",
            "60      6\n",
            "Name: AGE_BIN, dtype: int64\n",
            "Laborers                 227\n",
            "Sales staff               82\n",
            "Drivers                   80\n",
            "Core staff                52\n",
            "Managers                  47\n",
            "High skill tech staff     26\n",
            "Security staff            25\n",
            "Cooking staff             14\n",
            "Medicine staff            13\n",
            "Cleaning staff            10\n",
            "Accountants               10\n",
            "Low-skill Laborers         9\n",
            "Private service staff      8\n",
            "Waiters/barmen staff       4\n",
            "Realty agents              3\n",
            "Secretaries                3\n",
            "HR staff                   2\n",
            "Name: OCCUPATION_TYPE, dtype: int64\n",
            "Secondary / secondary special    540\n",
            "Higher education                 141\n",
            "Incomplete higher                 34\n",
            "Lower secondary                    9\n",
            "Name: NAME_EDUCATION_TYPE, dtype: int64\n"
          ],
          "name": "stdout"
        }
      ]
    },
    {
      "cell_type": "code",
      "metadata": {
        "colab_type": "code",
        "id": "DTHDfDmxLz6P",
        "outputId": "2293ffec-70d7-4401-c039-14c71d04a77e",
        "colab": {
          "base_uri": "https://localhost:8080/",
          "height": 654
        }
      },
      "source": [
        "# Find cases where people above 75% quartile income are marked risk for credit below 25% quartile\n",
        "\n",
        "df_filtered = df[(df.AMT_INCOME_TOTAL >= 202500) & (df.AMT_CREDIT <= 180000) & (df.TARGET==1)]\n",
        "print(df_filtered['CODE_GENDER'].value_counts())\n",
        "print(df_filtered['AGE_BIN'].value_counts())\n",
        "print(df_filtered['OCCUPATION_TYPE'].value_counts())\n",
        "print(df_filtered['NAME_EDUCATION_TYPE'].value_counts())"
      ],
      "execution_count": 0,
      "outputs": [
        {
          "output_type": "stream",
          "text": [
            "M    111\n",
            "F     79\n",
            "Name: CODE_GENDER, dtype: int64\n",
            "30    42\n",
            "25    34\n",
            "40    27\n",
            "35    25\n",
            "20    21\n",
            "45    19\n",
            "50    12\n",
            "55     9\n",
            "60     1\n",
            "Name: AGE_BIN, dtype: int64\n",
            "Laborers                 61\n",
            "Managers                 20\n",
            "Drivers                  18\n",
            "Sales staff              17\n",
            "Core staff               16\n",
            "High skill tech staff     6\n",
            "Security staff            6\n",
            "Medicine staff            4\n",
            "Cleaning staff            4\n",
            "Secretaries               2\n",
            "Accountants               2\n",
            "Private service staff     2\n",
            "Cooking staff             2\n",
            "Low-skill Laborers        2\n",
            "Realty agents             1\n",
            "Waiters/barmen staff      1\n",
            "Name: OCCUPATION_TYPE, dtype: int64\n",
            "Secondary / secondary special    130\n",
            "Higher education                  51\n",
            "Incomplete higher                  7\n",
            "Lower secondary                    2\n",
            "Name: NAME_EDUCATION_TYPE, dtype: int64\n"
          ],
          "name": "stdout"
        }
      ]
    },
    {
      "cell_type": "markdown",
      "metadata": {
        "id": "mzubipf0Dhxb",
        "colab_type": "text"
      },
      "source": [
        "### Distribution of attributes with respect to risk"
      ]
    },
    {
      "cell_type": "code",
      "metadata": {
        "colab_type": "code",
        "id": "7FjkhMR8MFP7",
        "outputId": "19464a76-1b59-490c-f642-569bc905ec93",
        "colab": {
          "base_uri": "https://localhost:8080/",
          "height": 337
        }
      },
      "source": [
        "df[['DAYS_BIRTH_POS', 'TARGET']].groupby('TARGET').DAYS_BIRTH_POS.hist(alpha=0.4)"
      ],
      "execution_count": 0,
      "outputs": [
        {
          "output_type": "execute_result",
          "data": {
            "text/plain": [
              "TARGET\n",
              "0    AxesSubplot(0.125,0.125;0.775x0.755)\n",
              "1    AxesSubplot(0.125,0.125;0.775x0.755)\n",
              "Name: DAYS_BIRTH_POS, dtype: object"
            ]
          },
          "metadata": {
            "tags": []
          },
          "execution_count": 97
        },
        {
          "output_type": "display_data",
          "data": {
            "image/png": "[encoded data removed]",
            "text/plain": [
              "<Figure size 432x288 with 1 Axes>"
            ]
          },
          "metadata": {
            "tags": []
          }
        }
      ]
    },
    {
      "cell_type": "code",
      "metadata": {
        "colab_type": "code",
        "id": "kII55_KrNWlD",
        "outputId": "752afe02-fb07-40d5-9e51-8b77e79164d5",
        "colab": {
          "base_uri": "https://localhost:8080/",
          "height": 337
        }
      },
      "source": [
        "df[['AGE_BIN', 'TARGET']].groupby('TARGET').AGE_BIN.hist(alpha=0.4)"
      ],
      "execution_count": 0,
      "outputs": [
        {
          "output_type": "execute_result",
          "data": {
            "text/plain": [
              "TARGET\n",
              "0    AxesSubplot(0.125,0.125;0.775x0.755)\n",
              "1    AxesSubplot(0.125,0.125;0.775x0.755)\n",
              "Name: AGE_BIN, dtype: object"
            ]
          },
          "metadata": {
            "tags": []
          },
          "execution_count": 98
        },
        {
          "output_type": "display_data",
          "data": {
            "image/png": "[encoded data removed]",
            "text/plain": [
              "<Figure size 432x288 with 1 Axes>"
            ]
          },
          "metadata": {
            "tags": []
          }
        }
      ]
    },
    {
      "cell_type": "code",
      "metadata": {
        "colab_type": "code",
        "id": "PAttTGPmPjh5",
        "outputId": "ae8476fd-8f1f-4993-b472-52d955507220",
        "colab": {
          "base_uri": "https://localhost:8080/",
          "height": 337
        }
      },
      "source": [
        "df[['AMT_INCOME_TOTAL', 'TARGET']][df['AMT_INCOME_TOTAL']<200000].groupby('TARGET').AMT_INCOME_TOTAL.hist(alpha=0.4)"
      ],
      "execution_count": 0,
      "outputs": [
        {
          "output_type": "execute_result",
          "data": {
            "text/plain": [
              "TARGET\n",
              "0    AxesSubplot(0.125,0.125;0.775x0.755)\n",
              "1    AxesSubplot(0.125,0.125;0.775x0.755)\n",
              "Name: AMT_INCOME_TOTAL, dtype: object"
            ]
          },
          "metadata": {
            "tags": []
          },
          "execution_count": 112
        },
        {
          "output_type": "display_data",
          "data": {
            "image/png": "[encoded data removed]",
            "text/plain": [
              "<Figure size 432x288 with 1 Axes>"
            ]
          },
          "metadata": {
            "tags": []
          }
        }
      ]
    },
    {
      "cell_type": "code",
      "metadata": {
        "colab_type": "code",
        "id": "DwQ9Oot2Pjup",
        "outputId": "dca3c8e1-dc2b-4362-a2fe-059e838eccc0",
        "colab": {
          "base_uri": "https://localhost:8080/",
          "height": 337
        }
      },
      "source": [
        "df[['AMT_INCOME_TOTAL', 'AMT_CREDIT', 'TARGET', 'AGE_BIN']][df['AMT_INCOME_TOTAL']>df['AMT_CREDIT']].groupby('TARGET').AGE_BIN.hist(alpha=0.4)"
      ],
      "execution_count": 0,
      "outputs": [
        {
          "output_type": "execute_result",
          "data": {
            "text/plain": [
              "TARGET\n",
              "0    AxesSubplot(0.125,0.125;0.775x0.755)\n",
              "1    AxesSubplot(0.125,0.125;0.775x0.755)\n",
              "Name: AGE_BIN, dtype: object"
            ]
          },
          "metadata": {
            "tags": []
          },
          "execution_count": 130
        },
        {
          "output_type": "display_data",
          "data": {
            "image/png": "[encoded data removed]",
            "text/plain": [
              "<Figure size 432x288 with 1 Axes>"
            ]
          },
          "metadata": {
            "tags": []
          }
        }
      ]
    },
    {
      "cell_type": "code",
      "metadata": {
        "colab_type": "code",
        "id": "zi2LB9amTX4q",
        "outputId": "ad2ebcab-7fc4-4c5e-c2a0-664c1ef83988",
        "colab": {
          "base_uri": "https://localhost:8080/",
          "height": 615
        }
      },
      "source": [
        "df[['AMT_INCOME_TOTAL', 'AMT_CREDIT', 'TARGET', 'OCCUPATION_TYPE']][df['AMT_INCOME_TOTAL']>df['AMT_CREDIT']].groupby('TARGET').OCCUPATION_TYPE.hist(alpha=0.4, figsize=(12,8))\n",
        "plt.xticks(rotation='vertical')"
      ],
      "execution_count": 0,
      "outputs": [
        {
          "output_type": "execute_result",
          "data": {
            "text/plain": [
              "([0, 1, 2, 3, 4, 5, 6, 7, 8, 9, 10, 11, 12, 13, 14, 15, 16, 17],\n",
              " <a list of 18 Text major ticklabel objects>)"
            ]
          },
          "metadata": {
            "tags": []
          },
          "execution_count": 129
        },
        {
          "output_type": "display_data",
          "data": {
            "image/png": "[encoded data removed]",
            "text/plain": [
              "<Figure size 864x576 with 1 Axes>"
            ]
          },
          "metadata": {
            "tags": []
          }
        }
      ]
    },
    {
      "cell_type": "code",
      "metadata": {
        "colab_type": "code",
        "id": "uNbnv2V8UeNN",
        "colab": {}
      },
      "source": [
        ""
      ],
      "execution_count": 0,
      "outputs": []
    }
  ]
}